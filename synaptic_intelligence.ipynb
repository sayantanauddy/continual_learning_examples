{
 "cells": [
  {
   "cell_type": "markdown",
   "id": "retired-coupon",
   "metadata": {},
   "source": [
    "# Continual Learning Through Synaptic Intelligence\n",
    "\n",
    " [(paper)](https://arxiv.org/abs/1703.04200)"
   ]
  },
  {
   "cell_type": "code",
   "execution_count": 1,
   "id": "criminal-contest",
   "metadata": {},
   "outputs": [],
   "source": [
    "import numpy as np\n",
    "import random\n",
    "from sklearn.metrics import accuracy_score\n",
    "from tqdm.notebook import trange, tqdm\n",
    "import matplotlib.pyplot as plt\n",
    "%matplotlib inline\n",
    "\n",
    "import torch\n",
    "import torch.nn as nn\n",
    "from torch.nn import Sequential\n",
    "import torch.optim as optim\n",
    "import torch.nn.functional as F\n",
    "from torch.utils.data import DataLoader\n",
    "\n",
    "from continuum import Rotations\n",
    "from continuum.datasets import MNIST"
   ]
  },
  {
   "cell_type": "code",
   "execution_count": 2,
   "id": "reported-billy",
   "metadata": {},
   "outputs": [],
   "source": [
    "def check_cuda():\n",
    "    \"\"\"\n",
    "    Checks if GPU is available.\n",
    "    \"\"\"    \n",
    "    cuda_available = torch.cuda.is_available()\n",
    "    device = torch.device('cuda' if cuda_available else 'cpu')\n",
    "    return cuda_available, device\n",
    "\n",
    "def set_seed(seed=1000):\n",
    "    \"\"\"\n",
    "    Sets the seed for reproducability\n",
    "    \"\"\"\n",
    "    torch.manual_seed(seed)\n",
    "    random.seed(seed)\n",
    "    np.random.seed(seed)\n",
    "    \n",
    "    cuda_available, _ = check_cuda()\n",
    "    if cuda_available:\n",
    "        torch.backends.cudnn.benchmark = False\n",
    "        torch.use_deterministic_algorithms(True)\n",
    "        torch.backends.cudnn.deterministic = True\n",
    "        torch.cuda.manual_seed_all(seed)"
   ]
  },
  {
   "cell_type": "code",
   "execution_count": 3,
   "id": "coupled-taylor",
   "metadata": {},
   "outputs": [],
   "source": [
    "def get_cl_metrics(arr):\n",
    "    \"\"\"\n",
    "    Given an array of validation accuracies (each current task along the rows,\n",
    "    and accuracy of the tasks in the columns), this function computes the \n",
    "    CL metrics according to the following paper:\n",
    "    Don't forget, there is more than forgetting: new metrics for Continual Learning,\n",
    "    Natalia Díaz-Rodríguez et al. [https://arxiv.org/pdf/1810.13166.pdf]\n",
    "    \n",
    "    We are using our own function instead of the Logger from continvvm because of\n",
    "    a lack of sufficient documentation, and to illustrate how the CL metrics can \n",
    "    be computed.\n",
    "    \n",
    "    The following metrics are computed:\n",
    "        - Accuracy,\n",
    "        - Backward Transfer,\n",
    "        - BWT+,\n",
    "        - REM,\n",
    "        - FWT\n",
    "        \n",
    "    Args:\n",
    "        arr (Numpy array): Array of validation accuracies\n",
    "\n",
    "    Returns:\n",
    "        cl_metrics (dict): Dictionary of CL metrics acc, bwt, bwt_plus, rem, fwt\n",
    "    \"\"\"\n",
    "\n",
    "    n = arr.shape[0]\n",
    "\n",
    "    # Accuracy considers the average accuracy by considering the diagonal \n",
    "    # elements as well as all elements below it\n",
    "    # This is equivalent to computing the sum of the lower traingular matrix\n",
    "    # and dividing that sum by N(N+1)/2\n",
    "    acc = np.sum(np.tril(arr))/(n*(n+1)/2.0)\n",
    "\n",
    "    # Backward transfer (BWT) \n",
    "    bwt = 0.0\n",
    "    for i in range(1, n):\n",
    "        for j in range(0, i):\n",
    "            bwt += (arr[i,j] - arr[j,j])\n",
    "    bwt /= (n*(n-1)/2.0)   \n",
    "\n",
    "    rem = 1.0 - np.abs(np.min([bwt, 0.0]))\n",
    "    bwt_plus = np.max([bwt, 0.0])\n",
    "\n",
    "    # Forward Transfer:  FWT measures the influence that learning a task has \n",
    "    # on the performance of future tasks\n",
    "    # This is the average accuracy for the train-test accuracy entries\n",
    "    # above the principal diagonal, excluding it \n",
    "    # This is equivalent to the sum of the upper tril minus the trace\n",
    "    fwt = (np.sum(np.triu(arr)) - np.trace(arr))/(n*(n-1)/2.0)\n",
    "\n",
    "    cl_metrics = {'acc': acc, 'bwt': bwt, 'bwt_plus': bwt_plus, 'rem': rem, 'fwt': fwt}\n",
    "    return cl_metrics"
   ]
  },
  {
   "cell_type": "code",
   "execution_count": 4,
   "id": "selective-variation",
   "metadata": {},
   "outputs": [],
   "source": [
    "def get_avg_acc(arr):\n",
    "    \"\"\"\n",
    "    Computes the average accuracies over validation tasks\n",
    "    \n",
    "    Args:\n",
    "        arr (Numpy array): Array of validation accuracies (each current task \n",
    "                           along the rows,and accuracy of the tasks in the columns)\n",
    "                           \n",
    "    Returns:\n",
    "        avg_acc_curr_past (Numpy array):\n",
    "        avg_acc_all (Numpy array):\n",
    "    \"\"\"\n",
    "    \n",
    "    (nb_tasks, _) = arr.shape\n",
    "    \n",
    "    avg_acc_curr_past = np.zeros((nb_tasks,))\n",
    "    avg_acc_all = np.zeros((nb_tasks,))\n",
    "    \n",
    "    for curr_task in range(nb_tasks):\n",
    "        avg_acc_curr_past[curr_task] = np.mean(arr[curr_task,:curr_task+1])\n",
    "        avg_acc_all[curr_task] = np.mean(arr[curr_task,:])\n",
    "        \n",
    "    return avg_acc_curr_past, avg_acc_all"
   ]
  },
  {
   "cell_type": "code",
   "execution_count": 5,
   "id": "removable-floating",
   "metadata": {},
   "outputs": [],
   "source": [
    "class SynapticIntelligenceLearner(nn.Module):\n",
    "    \n",
    "    def __init__(self, si_c, si_epsilon, lr):\n",
    "        \"\"\"\n",
    "        Initialize the SynapticIntelligenceLearner object.\n",
    "        Creates the network, sets the SI hyperparameters and\n",
    "        initializes the buffer objects required for SI updates.\n",
    "        \n",
    "        Args:\n",
    "            si_c (float): Regularization strength parameters\n",
    "            si_epsilon (float): Damping parameter\n",
    "            lr (float): Learning rate for optimizer\n",
    "\n",
    "        \"\"\"\n",
    "        super().__init__()\n",
    "        \n",
    "        # Set the network\n",
    "        self.model = Sequential(nn.Linear(784, 2000),\n",
    "                     nn.ReLU(),\n",
    "                     nn.Linear(2000,2000),\n",
    "                     nn.ReLU(),\n",
    "                     nn.Linear(2000,10))\n",
    "        \n",
    "        # Set the SI hyperparameters\n",
    "        self.si_c = si_c           \n",
    "        self.si_epsilon = si_epsilon\n",
    "        \n",
    "        # Optimizer hyperparameters\n",
    "        self.lr = lr\n",
    "        \n",
    "        # Setting buffers\n",
    "        # Register starting parameter values\n",
    "        for n, p in self.model.named_parameters():\n",
    "            if p.requires_grad:\n",
    "                n = n.replace('.', '__')\n",
    "                self.register_buffer(f'{n}_SI_prev_task', p.data.detach().clone())\n",
    "        \n",
    "        # Prepare buffers to store running importance estimates\n",
    "        # and param-values before update\n",
    "        for n, p in self.model.named_parameters():\n",
    "            if p.requires_grad:\n",
    "                n = n.replace('.', '__')\n",
    "                self.register_buffer(f'W_{n}', p.data.detach().clone().zero_())\n",
    "                self.register_buffer(f'p_old_{n}', p.data.detach().clone())\n",
    "                \n",
    "        # Set the optimizer\n",
    "        self.reset_optimizer()\n",
    "                \n",
    "    def reset_optimizer(self):\n",
    "        \"\"\"\n",
    "        Resets the optimizer\n",
    "        \"\"\"\n",
    "        self.optimizer = optim.Adam(self.model.parameters(), self.lr)     \n",
    "        \n",
    "    def update_omega(self):\n",
    "        \"\"\"\n",
    "        Updates the per-parameter importance once training is complete for a task.\n",
    "        Adapted from https://github.com/GMvandeVen/continual-learning \n",
    "        (using buffers instead of Python variables)           \n",
    "        \"\"\"\n",
    "        # Loop over all parameters\n",
    "        for n, p in self.model.named_parameters():\n",
    "            if p.requires_grad:\n",
    "                n = n.replace('.', '__')\n",
    "\n",
    "                # Calculate new values for quadratic penalty on parameters\n",
    "                p_prev = getattr(self, f'{n}_SI_prev_task')\n",
    "                p_current = p.detach().clone()\n",
    "                p_change = p_current - p_prev\n",
    "                W_n = getattr(self, f'W_{n}')\n",
    "                omega_add = W_n/(p_change**2 + self.si_epsilon)\n",
    "                try:\n",
    "                    omega = getattr(self, f'{n}_SI_omega')\n",
    "                except AttributeError:\n",
    "                    omega = p.detach().clone().zero_()\n",
    "                omega_new = omega + omega_add\n",
    "\n",
    "                # Store these new values in the model\n",
    "                self.register_buffer(f'{n}_SI_prev_task', p_current)\n",
    "                self.register_buffer(f'{n}_SI_omega', omega_new)\n",
    "\n",
    "    def surrogate_loss(self):\n",
    "        \"\"\"\n",
    "        Compute the surrogate loss in SI using the per-parameter importance and\n",
    "        the current and previous parameter values.\n",
    "        \n",
    "        Adapted from https://github.com/GMvandeVen/continual-learning \n",
    "        (using buffers instead of Python variables)\n",
    "        \"\"\"\n",
    "        try:\n",
    "            losses = []\n",
    "            for n, p in self.model.named_parameters():\n",
    "                if p.requires_grad:\n",
    "                    # Retrieve previous parameter values and their normalized path integral (i.e., omega)\n",
    "                    n = n.replace('.', '__')\n",
    "                    prev_values = getattr(self, f'{n}_SI_prev_task')\n",
    "                    omega = getattr(self, f'{n}_SI_omega')\n",
    "                    # Calculate SI's surrogate loss, sum over all parameters\n",
    "                    losses.append((omega * (p-prev_values)**2).sum())\n",
    "            return sum(losses)\n",
    "        except AttributeError:\n",
    "            # SI-loss is 0 if there is no stored omega yet\n",
    "            return torch.tensor(0.)\n",
    "        \n",
    "    def train_step(self, x, y, t):\n",
    "        \"\"\"\n",
    "        Single batch of training\n",
    "        \n",
    "        Args:\n",
    "            x (torch tensor): Batch of inputs\n",
    "            y (torch tensor): Batch of labels\n",
    "            t (torch tensor): Batch of task ids\n",
    "        \"\"\"\n",
    "        \n",
    "        # Zero the parameter gradients\n",
    "        self.optimizer.zero_grad()\n",
    "\n",
    "        # Perform a forward pass and compute the cross entropy loss\n",
    "        x = torch.flatten(x, 1)\n",
    "        y_hat = self.model(x)\n",
    "        loss = F.cross_entropy(input=y_hat, target=y, reduction='mean')\n",
    "        \n",
    "        # Compute the SI surrogate loss\n",
    "        surrogate_loss = self.surrogate_loss()\n",
    "        loss += self.si_c * surrogate_loss\n",
    "        \n",
    "        # Backprop and gradient step\n",
    "        loss.backward()\n",
    "        self.optimizer.step()\n",
    "\n",
    "        # Compute the training accuracy\n",
    "        pred = torch.argmax(y_hat, dim=-1)\n",
    "        acc = accuracy_score(y.detach().cpu().numpy(), pred.detach().cpu().numpy(), normalize=True)\n",
    "        \n",
    "        # Update W (running importance estimate) after each batch\n",
    "        for n, p in self.model.named_parameters():\n",
    "            if p.requires_grad:\n",
    "                n = n.replace('.', '__')\n",
    "                if p.grad is not None:\n",
    "                    W_n = getattr(self, f'W_{n}')\n",
    "                    p_old_n = getattr(self, f'p_old_{n}')\n",
    "                    W_n.add_(-p.grad*(p.detach()-p_old_n))\n",
    "                    self.register_buffer(f'W_{n}', W_n)\n",
    "                p_old_n = p.detach().clone()\n",
    "                self.register_buffer(f'p_old_{n}', p_old_n)\n",
    "                \n",
    "        # Return the training accuracy\n",
    "        return acc\n",
    "            \n",
    "    def val_step(self, x, y, t):\n",
    "        \"\"\"\n",
    "        Single batch of validation\n",
    "        \n",
    "        Args:\n",
    "            x (torch tensor): Batch of inputs\n",
    "            y (torch tensor): Batch of labels\n",
    "            t (torch tensor): Batch of task ids\n",
    "        \"\"\"\n",
    "                \n",
    "        with torch.no_grad():\n",
    "            \n",
    "            # Forward pass\n",
    "            x = torch.flatten(x, 1)\n",
    "            y_hat = self.model(x)\n",
    "            \n",
    "            # Compute the validation accuracy\n",
    "            pred = torch.argmax(y_hat, dim=-1)\n",
    "            acc = accuracy_score(y.detach().cpu().numpy(), pred.detach().cpu().numpy(), normalize=True)\n",
    "            \n",
    "        return acc\n",
    "    "
   ]
  },
  {
   "cell_type": "code",
   "execution_count": 6,
   "id": "backed-throw",
   "metadata": {},
   "outputs": [],
   "source": [
    "def train_val(si_model, list_degrees, train_dataset, val_dataset, num_epochs, batch_size, device='cpu'):\n",
    "    \"\"\"\n",
    "    Complete training and validation loop over all tasks.\n",
    "    \n",
    "    Once training is complete for a task, validation is performed using the validation\n",
    "    datasets of all past, current and future tasks. This is needed for computing the \n",
    "    CL metrics.\n",
    "    \n",
    "    Args:\n",
    "        si_model (SynapticIntelligenceLearner): The learner class\n",
    "        list_degrees (list): List of angles in degrees for the RotatedMNIST tasks\n",
    "        train_dataset (MNIST): Training MNIST Dataset object \n",
    "        val_dataset (MNIST): Validation MNIST Dataset object \n",
    "        num_epochs (int): Number of training epochs\n",
    "        batch_size (int): Batch size for training\n",
    "        device (str): Device to use for training ('cpu' or 'cuda')\n",
    "        \n",
    "    Returns:\n",
    "        val_acc_arr (Numpy array): Array of validation accuracies (each current task \n",
    "                                   along the rows,and accuracy of the tasks in the columns)\n",
    "    \"\"\"\n",
    "\n",
    "    nb_tasks = len(list_degrees)\n",
    "\n",
    "    # Array to store validation accuracies (each current task along the rows,\n",
    "    # and accuracy of the tasks in the columns)\n",
    "    val_acc_arr = np.zeros((nb_tasks, nb_tasks))\n",
    "\n",
    "    train_scenario = Rotations(cl_dataset=train_dataset,\n",
    "                               nb_tasks=nb_tasks,\n",
    "                               list_degrees=list_degrees)\n",
    "\n",
    "    val_scenario = Rotations(cl_dataset=val_dataset,\n",
    "                             nb_tasks=nb_tasks,\n",
    "                             list_degrees=list_degrees)\n",
    "\n",
    "    for task_id, train_taskset in enumerate(train_scenario):\n",
    "\n",
    "        print(f'Starting task_id: {task_id}')\n",
    "\n",
    "        # Reset the optimizer at the start of each task\n",
    "        # si_model.reset_optimizer()  # Not done for permuted MNIST in the paper\n",
    "\n",
    "        train_loader = DataLoader(train_taskset, batch_size=batch_size, shuffle=True)\n",
    "\n",
    "        for epoch in range(num_epochs):\n",
    "            \n",
    "            print(f'Starting epoch: {epoch}')\n",
    "            \n",
    "            si_model.train()\n",
    "\n",
    "            train_accuracies = list()\n",
    "\n",
    "            for x, y, t in tqdm(train_loader):\n",
    "                train_accuracies.append(si_model.train_step(x.to(device), y.to(device), t.to(device)))\n",
    "\n",
    "            train_acc = np.mean(train_accuracies)\n",
    "\n",
    "            print(f'task_id: {task_id}, epoch: {epoch}, train_accuracy: {train_acc}')\n",
    "\n",
    "        # Update omega on ending a task\n",
    "        si_model.update_omega()\n",
    "\n",
    "        # At the end of the epoch validate on all tasks (past, current, and future tasks)\n",
    "        si_model.eval()\n",
    "        for val_task_id, val_taskset in enumerate(val_scenario):\n",
    "            val_loader = DataLoader(val_taskset, batch_size=1, shuffle=False)\n",
    "            val_accuracies = list()\n",
    "\n",
    "            for x, y, t in val_loader:\n",
    "                val_accuracies.append(si_model.val_step(x.to(device), y.to(device), t.to(device)))\n",
    "\n",
    "            val_acc = np.mean(val_accuracies)\n",
    "\n",
    "            val_acc_arr[task_id][val_task_id] = val_acc\n",
    "\n",
    "            print(f'Current task: {task_id}, Validating on task: {val_task_id}, Accuracy: {val_acc}')\n",
    "            \n",
    "    return val_acc_arr"
   ]
  },
  {
   "cell_type": "code",
   "execution_count": 7,
   "id": "neutral-desperate",
   "metadata": {},
   "outputs": [],
   "source": [
    "# Setting hyperparameters\n",
    "NUM_EPOCHS = 5  # instead of 20 (in the paper)\n",
    "SI_C = 0.1\n",
    "SI_EPSILON = 0.1\n",
    "LEARNING_RATE = 0.001\n",
    "BATCH_SIZE = 256"
   ]
  },
  {
   "cell_type": "code",
   "execution_count": 8,
   "id": "internal-recruitment",
   "metadata": {},
   "outputs": [
    {
     "name": "stdout",
     "output_type": "stream",
     "text": [
      "cuda_available: False, device: cpu\n"
     ]
    }
   ],
   "source": [
    "# Check if CUDA is available\n",
    "cuda_available, device = check_cuda()\n",
    "print(f'cuda_available: {cuda_available}, device: {device}')"
   ]
  },
  {
   "cell_type": "code",
   "execution_count": 9,
   "id": "parental-demographic",
   "metadata": {},
   "outputs": [],
   "source": [
    "# Create the Dataset objects\n",
    "list_degrees = [0, 45, 90, 135, 180]\n",
    "train_dataset = MNIST(data_path=\"dataset\", download=True, train=True)\n",
    "val_dataset = MNIST(data_path=\"dataset\", download=True, train=False)"
   ]
  },
  {
   "cell_type": "code",
   "execution_count": 10,
   "id": "corporate-header",
   "metadata": {},
   "outputs": [],
   "source": [
    "set_seed()\n",
    "\n",
    "# Create the learner object\n",
    "si_model = SynapticIntelligenceLearner(si_c=SI_C, si_epsilon=SI_EPSILON, lr=LEARNING_RATE)\n",
    "si_model = si_model.to(device)"
   ]
  },
  {
   "cell_type": "code",
   "execution_count": 11,
   "id": "heated-sally",
   "metadata": {},
   "outputs": [
    {
     "name": "stdout",
     "output_type": "stream",
     "text": [
      "Starting task_id: 0\n",
      "Starting epoch: 0\n"
     ]
    },
    {
     "data": {
      "application/vnd.jupyter.widget-view+json": {
       "model_id": "d1c24e6b9528400e840a720908b2a66d",
       "version_major": 2,
       "version_minor": 0
      },
      "text/plain": [
       "  0%|          | 0/235 [00:00<?, ?it/s]"
      ]
     },
     "metadata": {},
     "output_type": "display_data"
    },
    {
     "name": "stdout",
     "output_type": "stream",
     "text": [
      "task_id: 0, epoch: 0, train_accuracy: 0.9314937943262412\n",
      "Starting epoch: 1\n"
     ]
    },
    {
     "data": {
      "application/vnd.jupyter.widget-view+json": {
       "model_id": "485bf81524df4ea89dc14de383a5e1e3",
       "version_major": 2,
       "version_minor": 0
      },
      "text/plain": [
       "  0%|          | 0/235 [00:00<?, ?it/s]"
      ]
     },
     "metadata": {},
     "output_type": "display_data"
    },
    {
     "name": "stdout",
     "output_type": "stream",
     "text": [
      "task_id: 0, epoch: 1, train_accuracy: 0.976346409574468\n",
      "Starting epoch: 2\n"
     ]
    },
    {
     "data": {
      "application/vnd.jupyter.widget-view+json": {
       "model_id": "79f85c1c96c24baf87eab64af6ddc595",
       "version_major": 2,
       "version_minor": 0
      },
      "text/plain": [
       "  0%|          | 0/235 [00:00<?, ?it/s]"
      ]
     },
     "metadata": {},
     "output_type": "display_data"
    },
    {
     "name": "stdout",
     "output_type": "stream",
     "text": [
      "task_id: 0, epoch: 2, train_accuracy: 0.9847850177304965\n",
      "Starting epoch: 3\n"
     ]
    },
    {
     "data": {
      "application/vnd.jupyter.widget-view+json": {
       "model_id": "b5893bc5b1ea4138bdaa3f7298f2a9ba",
       "version_major": 2,
       "version_minor": 0
      },
      "text/plain": [
       "  0%|          | 0/235 [00:00<?, ?it/s]"
      ]
     },
     "metadata": {},
     "output_type": "display_data"
    },
    {
     "name": "stdout",
     "output_type": "stream",
     "text": [
      "task_id: 0, epoch: 3, train_accuracy: 0.9884363918439716\n",
      "Starting epoch: 4\n"
     ]
    },
    {
     "data": {
      "application/vnd.jupyter.widget-view+json": {
       "model_id": "a32c623dd479463faee09f2726505124",
       "version_major": 2,
       "version_minor": 0
      },
      "text/plain": [
       "  0%|          | 0/235 [00:00<?, ?it/s]"
      ]
     },
     "metadata": {},
     "output_type": "display_data"
    },
    {
     "name": "stdout",
     "output_type": "stream",
     "text": [
      "task_id: 0, epoch: 4, train_accuracy: 0.9900487588652481\n",
      "Current task: 0, Validating on task: 0, Accuracy: 0.9825\n",
      "Current task: 0, Validating on task: 1, Accuracy: 0.3708\n",
      "Current task: 0, Validating on task: 2, Accuracy: 0.1486\n",
      "Current task: 0, Validating on task: 3, Accuracy: 0.2157\n",
      "Current task: 0, Validating on task: 4, Accuracy: 0.3265\n",
      "Starting task_id: 1\n",
      "Starting epoch: 0\n"
     ]
    },
    {
     "data": {
      "application/vnd.jupyter.widget-view+json": {
       "model_id": "94e0d7680a5348acb4fff12e2180322a",
       "version_major": 2,
       "version_minor": 0
      },
      "text/plain": [
       "  0%|          | 0/235 [00:00<?, ?it/s]"
      ]
     },
     "metadata": {},
     "output_type": "display_data"
    },
    {
     "name": "stdout",
     "output_type": "stream",
     "text": [
      "task_id: 1, epoch: 0, train_accuracy: 0.9473847517730497\n",
      "Starting epoch: 1\n"
     ]
    },
    {
     "data": {
      "application/vnd.jupyter.widget-view+json": {
       "model_id": "9ef9054dfe714364803aa629cde64ff4",
       "version_major": 2,
       "version_minor": 0
      },
      "text/plain": [
       "  0%|          | 0/235 [00:00<?, ?it/s]"
      ]
     },
     "metadata": {},
     "output_type": "display_data"
    },
    {
     "name": "stdout",
     "output_type": "stream",
     "text": [
      "task_id: 1, epoch: 1, train_accuracy: 0.9819315159574468\n",
      "Starting epoch: 2\n"
     ]
    },
    {
     "data": {
      "application/vnd.jupyter.widget-view+json": {
       "model_id": "a2e793f6e1a947809f0307e8ca5d76b5",
       "version_major": 2,
       "version_minor": 0
      },
      "text/plain": [
       "  0%|          | 0/235 [00:00<?, ?it/s]"
      ]
     },
     "metadata": {},
     "output_type": "display_data"
    },
    {
     "name": "stdout",
     "output_type": "stream",
     "text": [
      "task_id: 1, epoch: 2, train_accuracy: 0.9881538120567375\n",
      "Starting epoch: 3\n"
     ]
    },
    {
     "data": {
      "application/vnd.jupyter.widget-view+json": {
       "model_id": "0cb6c7f6c75f44fe826d6bc0a2a6299c",
       "version_major": 2,
       "version_minor": 0
      },
      "text/plain": [
       "  0%|          | 0/235 [00:00<?, ?it/s]"
      ]
     },
     "metadata": {},
     "output_type": "display_data"
    },
    {
     "name": "stdout",
     "output_type": "stream",
     "text": [
      "task_id: 1, epoch: 3, train_accuracy: 0.9922872340425531\n",
      "Starting epoch: 4\n"
     ]
    },
    {
     "data": {
      "application/vnd.jupyter.widget-view+json": {
       "model_id": "7126b5bc82ae44ed8fa383d649ec07b6",
       "version_major": 2,
       "version_minor": 0
      },
      "text/plain": [
       "  0%|          | 0/235 [00:00<?, ?it/s]"
      ]
     },
     "metadata": {},
     "output_type": "display_data"
    },
    {
     "name": "stdout",
     "output_type": "stream",
     "text": [
      "task_id: 1, epoch: 4, train_accuracy: 0.9940492021276596\n",
      "Current task: 1, Validating on task: 0, Accuracy: 0.7577\n",
      "Current task: 1, Validating on task: 1, Accuracy: 0.9812\n",
      "Current task: 1, Validating on task: 2, Accuracy: 0.3958\n",
      "Current task: 1, Validating on task: 3, Accuracy: 0.1306\n",
      "Current task: 1, Validating on task: 4, Accuracy: 0.2807\n",
      "Starting task_id: 2\n",
      "Starting epoch: 0\n"
     ]
    },
    {
     "data": {
      "application/vnd.jupyter.widget-view+json": {
       "model_id": "4440a08d016c447fabcd10bb630e9280",
       "version_major": 2,
       "version_minor": 0
      },
      "text/plain": [
       "  0%|          | 0/235 [00:00<?, ?it/s]"
      ]
     },
     "metadata": {},
     "output_type": "display_data"
    },
    {
     "name": "stdout",
     "output_type": "stream",
     "text": [
      "task_id: 2, epoch: 0, train_accuracy: 0.9505817819148936\n",
      "Starting epoch: 1\n"
     ]
    },
    {
     "data": {
      "application/vnd.jupyter.widget-view+json": {
       "model_id": "a58cf6a5e86c473eace333ca21e06137",
       "version_major": 2,
       "version_minor": 0
      },
      "text/plain": [
       "  0%|          | 0/235 [00:00<?, ?it/s]"
      ]
     },
     "metadata": {},
     "output_type": "display_data"
    },
    {
     "name": "stdout",
     "output_type": "stream",
     "text": [
      "task_id: 2, epoch: 1, train_accuracy: 0.9836103723404256\n",
      "Starting epoch: 2\n"
     ]
    },
    {
     "data": {
      "application/vnd.jupyter.widget-view+json": {
       "model_id": "5d695b24276e49868629cf99d9d0f5c5",
       "version_major": 2,
       "version_minor": 0
      },
      "text/plain": [
       "  0%|          | 0/235 [00:00<?, ?it/s]"
      ]
     },
     "metadata": {},
     "output_type": "display_data"
    },
    {
     "name": "stdout",
     "output_type": "stream",
     "text": [
      "task_id: 2, epoch: 2, train_accuracy: 0.9901318705673758\n",
      "Starting epoch: 3\n"
     ]
    },
    {
     "data": {
      "application/vnd.jupyter.widget-view+json": {
       "model_id": "dab0dba92f144a639338909cc1f55d88",
       "version_major": 2,
       "version_minor": 0
      },
      "text/plain": [
       "  0%|          | 0/235 [00:00<?, ?it/s]"
      ]
     },
     "metadata": {},
     "output_type": "display_data"
    },
    {
     "name": "stdout",
     "output_type": "stream",
     "text": [
      "task_id: 2, epoch: 3, train_accuracy: 0.9930518617021277\n",
      "Starting epoch: 4\n"
     ]
    },
    {
     "data": {
      "application/vnd.jupyter.widget-view+json": {
       "model_id": "b5b35fb3047242efad3bbf24c7863e72",
       "version_major": 2,
       "version_minor": 0
      },
      "text/plain": [
       "  0%|          | 0/235 [00:00<?, ?it/s]"
      ]
     },
     "metadata": {},
     "output_type": "display_data"
    },
    {
     "name": "stdout",
     "output_type": "stream",
     "text": [
      "task_id: 2, epoch: 4, train_accuracy: 0.9943317819148936\n",
      "Current task: 2, Validating on task: 0, Accuracy: 0.3277\n",
      "Current task: 2, Validating on task: 1, Accuracy: 0.802\n",
      "Current task: 2, Validating on task: 2, Accuracy: 0.9798\n",
      "Current task: 2, Validating on task: 3, Accuracy: 0.3932\n",
      "Current task: 2, Validating on task: 4, Accuracy: 0.1741\n",
      "Starting task_id: 3\n",
      "Starting epoch: 0\n"
     ]
    },
    {
     "data": {
      "application/vnd.jupyter.widget-view+json": {
       "model_id": "2679a804719c40a3b6fc1ca28866f0ee",
       "version_major": 2,
       "version_minor": 0
      },
      "text/plain": [
       "  0%|          | 0/235 [00:00<?, ?it/s]"
      ]
     },
     "metadata": {},
     "output_type": "display_data"
    },
    {
     "name": "stdout",
     "output_type": "stream",
     "text": [
      "task_id: 3, epoch: 0, train_accuracy: 0.9517453457446808\n",
      "Starting epoch: 1\n"
     ]
    },
    {
     "data": {
      "application/vnd.jupyter.widget-view+json": {
       "model_id": "0dbb5d4c216c4fdeaf0c7d15e57f3864",
       "version_major": 2,
       "version_minor": 0
      },
      "text/plain": [
       "  0%|          | 0/235 [00:00<?, ?it/s]"
      ]
     },
     "metadata": {},
     "output_type": "display_data"
    },
    {
     "name": "stdout",
     "output_type": "stream",
     "text": [
      "task_id: 3, epoch: 1, train_accuracy: 0.9832668439716311\n",
      "Starting epoch: 2\n"
     ]
    },
    {
     "data": {
      "application/vnd.jupyter.widget-view+json": {
       "model_id": "e23b6a7ec7584d76949275103bd18341",
       "version_major": 2,
       "version_minor": 0
      },
      "text/plain": [
       "  0%|          | 0/235 [00:00<?, ?it/s]"
      ]
     },
     "metadata": {},
     "output_type": "display_data"
    },
    {
     "name": "stdout",
     "output_type": "stream",
     "text": [
      "task_id: 3, epoch: 2, train_accuracy: 0.9891511524822694\n",
      "Starting epoch: 3\n"
     ]
    },
    {
     "data": {
      "application/vnd.jupyter.widget-view+json": {
       "model_id": "371168fa231b460ea1c0cfde33a1bc45",
       "version_major": 2,
       "version_minor": 0
      },
      "text/plain": [
       "  0%|          | 0/235 [00:00<?, ?it/s]"
      ]
     },
     "metadata": {},
     "output_type": "display_data"
    },
    {
     "name": "stdout",
     "output_type": "stream",
     "text": [
      "task_id: 3, epoch: 3, train_accuracy: 0.9910294769503545\n",
      "Starting epoch: 4\n"
     ]
    },
    {
     "data": {
      "application/vnd.jupyter.widget-view+json": {
       "model_id": "e2c2d6889d114eea8c6df4d6bbbbd8f4",
       "version_major": 2,
       "version_minor": 0
      },
      "text/plain": [
       "  0%|          | 0/235 [00:00<?, ?it/s]"
      ]
     },
     "metadata": {},
     "output_type": "display_data"
    },
    {
     "name": "stdout",
     "output_type": "stream",
     "text": [
      "task_id: 3, epoch: 4, train_accuracy: 0.993500664893617\n",
      "Current task: 3, Validating on task: 0, Accuracy: 0.3321\n",
      "Current task: 3, Validating on task: 1, Accuracy: 0.4971\n",
      "Current task: 3, Validating on task: 2, Accuracy: 0.8476\n",
      "Current task: 3, Validating on task: 3, Accuracy: 0.9838\n",
      "Current task: 3, Validating on task: 4, Accuracy: 0.445\n",
      "Starting task_id: 4\n",
      "Starting epoch: 0\n"
     ]
    },
    {
     "data": {
      "application/vnd.jupyter.widget-view+json": {
       "model_id": "2f7b91fed93d40d0a21e0b2b34ead516",
       "version_major": 2,
       "version_minor": 0
      },
      "text/plain": [
       "  0%|          | 0/235 [00:00<?, ?it/s]"
      ]
     },
     "metadata": {},
     "output_type": "display_data"
    },
    {
     "name": "stdout",
     "output_type": "stream",
     "text": [
      "task_id: 4, epoch: 0, train_accuracy: 0.9579953457446808\n",
      "Starting epoch: 1\n"
     ]
    },
    {
     "data": {
      "application/vnd.jupyter.widget-view+json": {
       "model_id": "f24eafaba43b4c8c98e30fdfdf469149",
       "version_major": 2,
       "version_minor": 0
      },
      "text/plain": [
       "  0%|          | 0/235 [00:00<?, ?it/s]"
      ]
     },
     "metadata": {},
     "output_type": "display_data"
    },
    {
     "name": "stdout",
     "output_type": "stream",
     "text": [
      "task_id: 4, epoch: 1, train_accuracy: 0.9842309397163119\n",
      "Starting epoch: 2\n"
     ]
    },
    {
     "data": {
      "application/vnd.jupyter.widget-view+json": {
       "model_id": "d4ed839d91ca4532b95a7d81d1cb0939",
       "version_major": 2,
       "version_minor": 0
      },
      "text/plain": [
       "  0%|          | 0/235 [00:00<?, ?it/s]"
      ]
     },
     "metadata": {},
     "output_type": "display_data"
    },
    {
     "name": "stdout",
     "output_type": "stream",
     "text": [
      "task_id: 4, epoch: 2, train_accuracy: 0.988984929078014\n",
      "Starting epoch: 3\n"
     ]
    },
    {
     "data": {
      "application/vnd.jupyter.widget-view+json": {
       "model_id": "9f97d3342036441db17ea04245f09c6f",
       "version_major": 2,
       "version_minor": 0
      },
      "text/plain": [
       "  0%|          | 0/235 [00:00<?, ?it/s]"
      ]
     },
     "metadata": {},
     "output_type": "display_data"
    },
    {
     "name": "stdout",
     "output_type": "stream",
     "text": [
      "task_id: 4, epoch: 3, train_accuracy: 0.9918550531914894\n",
      "Starting epoch: 4\n"
     ]
    },
    {
     "data": {
      "application/vnd.jupyter.widget-view+json": {
       "model_id": "8d84401ced7048249bde5564aa78c5df",
       "version_major": 2,
       "version_minor": 0
      },
      "text/plain": [
       "  0%|          | 0/235 [00:00<?, ?it/s]"
      ]
     },
     "metadata": {},
     "output_type": "display_data"
    },
    {
     "name": "stdout",
     "output_type": "stream",
     "text": [
      "task_id: 4, epoch: 4, train_accuracy: 0.9917331560283689\n",
      "Current task: 4, Validating on task: 0, Accuracy: 0.3839\n",
      "Current task: 4, Validating on task: 1, Accuracy: 0.3922\n",
      "Current task: 4, Validating on task: 2, Accuracy: 0.5494\n",
      "Current task: 4, Validating on task: 3, Accuracy: 0.8507\n",
      "Current task: 4, Validating on task: 4, Accuracy: 0.9803\n"
     ]
    }
   ],
   "source": [
    "# Train using SI\n",
    "val_acc_arr = train_val(si_model=si_model, \n",
    "                        list_degrees=list_degrees, \n",
    "                        train_dataset=train_dataset, \n",
    "                        val_dataset=val_dataset,\n",
    "                        num_epochs=NUM_EPOCHS, \n",
    "                        batch_size=BATCH_SIZE)"
   ]
  },
  {
   "cell_type": "code",
   "execution_count": 12,
   "id": "outer-affairs",
   "metadata": {},
   "outputs": [],
   "source": [
    "# Compute the CL metrics\n",
    "cl_metrics = get_cl_metrics(val_acc_arr)\n",
    "\n",
    "# Compute the average accuracy (over other tasks) for each current task\n",
    "avg_acc_curr_past, avg_acc_all = get_avg_acc(val_acc_arr)"
   ]
  },
  {
   "cell_type": "code",
   "execution_count": 13,
   "id": "dangerous-preservation",
   "metadata": {},
   "outputs": [
    {
     "name": "stdout",
     "output_type": "stream",
     "text": [
      "Starting task_id: 0\n",
      "Starting epoch: 0\n"
     ]
    },
    {
     "data": {
      "application/vnd.jupyter.widget-view+json": {
       "model_id": "6776f8d2fee043d293b518095b9acd3e",
       "version_major": 2,
       "version_minor": 0
      },
      "text/plain": [
       "  0%|          | 0/235 [00:00<?, ?it/s]"
      ]
     },
     "metadata": {},
     "output_type": "display_data"
    },
    {
     "name": "stdout",
     "output_type": "stream",
     "text": [
      "task_id: 0, epoch: 0, train_accuracy: 0.9314937943262412\n",
      "Starting epoch: 1\n"
     ]
    },
    {
     "data": {
      "application/vnd.jupyter.widget-view+json": {
       "model_id": "55f83f38adc941a2b10d83c305ea1a26",
       "version_major": 2,
       "version_minor": 0
      },
      "text/plain": [
       "  0%|          | 0/235 [00:00<?, ?it/s]"
      ]
     },
     "metadata": {},
     "output_type": "display_data"
    },
    {
     "name": "stdout",
     "output_type": "stream",
     "text": [
      "task_id: 0, epoch: 1, train_accuracy: 0.976346409574468\n",
      "Starting epoch: 2\n"
     ]
    },
    {
     "data": {
      "application/vnd.jupyter.widget-view+json": {
       "model_id": "3d2e88bc2fcb49f38fce848df4b49245",
       "version_major": 2,
       "version_minor": 0
      },
      "text/plain": [
       "  0%|          | 0/235 [00:00<?, ?it/s]"
      ]
     },
     "metadata": {},
     "output_type": "display_data"
    },
    {
     "name": "stdout",
     "output_type": "stream",
     "text": [
      "task_id: 0, epoch: 2, train_accuracy: 0.9847850177304965\n",
      "Starting epoch: 3\n"
     ]
    },
    {
     "data": {
      "application/vnd.jupyter.widget-view+json": {
       "model_id": "6d6b57806f674890b796b0990463b942",
       "version_major": 2,
       "version_minor": 0
      },
      "text/plain": [
       "  0%|          | 0/235 [00:00<?, ?it/s]"
      ]
     },
     "metadata": {},
     "output_type": "display_data"
    },
    {
     "name": "stdout",
     "output_type": "stream",
     "text": [
      "task_id: 0, epoch: 3, train_accuracy: 0.9884363918439716\n",
      "Starting epoch: 4\n"
     ]
    },
    {
     "data": {
      "application/vnd.jupyter.widget-view+json": {
       "model_id": "7766fbf2a92e47c6814b3756e0382cd6",
       "version_major": 2,
       "version_minor": 0
      },
      "text/plain": [
       "  0%|          | 0/235 [00:00<?, ?it/s]"
      ]
     },
     "metadata": {},
     "output_type": "display_data"
    },
    {
     "name": "stdout",
     "output_type": "stream",
     "text": [
      "task_id: 0, epoch: 4, train_accuracy: 0.9900487588652481\n",
      "Current task: 0, Validating on task: 0, Accuracy: 0.9825\n",
      "Current task: 0, Validating on task: 1, Accuracy: 0.3708\n",
      "Current task: 0, Validating on task: 2, Accuracy: 0.1486\n",
      "Current task: 0, Validating on task: 3, Accuracy: 0.2157\n",
      "Current task: 0, Validating on task: 4, Accuracy: 0.3265\n",
      "Starting task_id: 1\n",
      "Starting epoch: 0\n"
     ]
    },
    {
     "data": {
      "application/vnd.jupyter.widget-view+json": {
       "model_id": "400964bc16744dcab244e93a90a8f2dc",
       "version_major": 2,
       "version_minor": 0
      },
      "text/plain": [
       "  0%|          | 0/235 [00:00<?, ?it/s]"
      ]
     },
     "metadata": {},
     "output_type": "display_data"
    },
    {
     "name": "stdout",
     "output_type": "stream",
     "text": [
      "task_id: 1, epoch: 0, train_accuracy: 0.9472019060283688\n",
      "Starting epoch: 1\n"
     ]
    },
    {
     "data": {
      "application/vnd.jupyter.widget-view+json": {
       "model_id": "82c1e89891784418b1a98c1cd639bb11",
       "version_major": 2,
       "version_minor": 0
      },
      "text/plain": [
       "  0%|          | 0/235 [00:00<?, ?it/s]"
      ]
     },
     "metadata": {},
     "output_type": "display_data"
    },
    {
     "name": "stdout",
     "output_type": "stream",
     "text": [
      "task_id: 1, epoch: 1, train_accuracy: 0.9817929964539008\n",
      "Starting epoch: 2\n"
     ]
    },
    {
     "data": {
      "application/vnd.jupyter.widget-view+json": {
       "model_id": "4d05ab9cb4904c32a7816487ddbea47e",
       "version_major": 2,
       "version_minor": 0
      },
      "text/plain": [
       "  0%|          | 0/235 [00:00<?, ?it/s]"
      ]
     },
     "metadata": {},
     "output_type": "display_data"
    },
    {
     "name": "stdout",
     "output_type": "stream",
     "text": [
      "task_id: 1, epoch: 2, train_accuracy: 0.9887688386524822\n",
      "Starting epoch: 3\n"
     ]
    },
    {
     "data": {
      "application/vnd.jupyter.widget-view+json": {
       "model_id": "ea9dade28f3b4190983119825a4d54eb",
       "version_major": 2,
       "version_minor": 0
      },
      "text/plain": [
       "  0%|          | 0/235 [00:00<?, ?it/s]"
      ]
     },
     "metadata": {},
     "output_type": "display_data"
    },
    {
     "name": "stdout",
     "output_type": "stream",
     "text": [
      "task_id: 1, epoch: 3, train_accuracy: 0.9927859042553191\n",
      "Starting epoch: 4\n"
     ]
    },
    {
     "data": {
      "application/vnd.jupyter.widget-view+json": {
       "model_id": "fb41cf1deb844040a34dfd10a4830ba5",
       "version_major": 2,
       "version_minor": 0
      },
      "text/plain": [
       "  0%|          | 0/235 [00:00<?, ?it/s]"
      ]
     },
     "metadata": {},
     "output_type": "display_data"
    },
    {
     "name": "stdout",
     "output_type": "stream",
     "text": [
      "task_id: 1, epoch: 4, train_accuracy: 0.9950797872340426\n",
      "Current task: 1, Validating on task: 0, Accuracy: 0.7328\n",
      "Current task: 1, Validating on task: 1, Accuracy: 0.9774\n",
      "Current task: 1, Validating on task: 2, Accuracy: 0.4008\n",
      "Current task: 1, Validating on task: 3, Accuracy: 0.138\n",
      "Current task: 1, Validating on task: 4, Accuracy: 0.2925\n",
      "Starting task_id: 2\n",
      "Starting epoch: 0\n"
     ]
    },
    {
     "data": {
      "application/vnd.jupyter.widget-view+json": {
       "model_id": "0b656bb1e7de40e795c68ccde0314402",
       "version_major": 2,
       "version_minor": 0
      },
      "text/plain": [
       "  0%|          | 0/235 [00:00<?, ?it/s]"
      ]
     },
     "metadata": {},
     "output_type": "display_data"
    },
    {
     "name": "stdout",
     "output_type": "stream",
     "text": [
      "task_id: 2, epoch: 0, train_accuracy: 0.9495955230496455\n",
      "Starting epoch: 1\n"
     ]
    },
    {
     "data": {
      "application/vnd.jupyter.widget-view+json": {
       "model_id": "65dd8f2a131b4eceaef802fa00b0e5e8",
       "version_major": 2,
       "version_minor": 0
      },
      "text/plain": [
       "  0%|          | 0/235 [00:00<?, ?it/s]"
      ]
     },
     "metadata": {},
     "output_type": "display_data"
    },
    {
     "name": "stdout",
     "output_type": "stream",
     "text": [
      "task_id: 2, epoch: 1, train_accuracy: 0.9846409574468085\n",
      "Starting epoch: 2\n"
     ]
    },
    {
     "data": {
      "application/vnd.jupyter.widget-view+json": {
       "model_id": "8def4c3139984e889ab0d93ebb7cefbe",
       "version_major": 2,
       "version_minor": 0
      },
      "text/plain": [
       "  0%|          | 0/235 [00:00<?, ?it/s]"
      ]
     },
     "metadata": {},
     "output_type": "display_data"
    },
    {
     "name": "stdout",
     "output_type": "stream",
     "text": [
      "task_id: 2, epoch: 2, train_accuracy: 0.9916167996453902\n",
      "Starting epoch: 3\n"
     ]
    },
    {
     "data": {
      "application/vnd.jupyter.widget-view+json": {
       "model_id": "da5eecb5c585436490cd3662ae70b364",
       "version_major": 2,
       "version_minor": 0
      },
      "text/plain": [
       "  0%|          | 0/235 [00:00<?, ?it/s]"
      ]
     },
     "metadata": {},
     "output_type": "display_data"
    },
    {
     "name": "stdout",
     "output_type": "stream",
     "text": [
      "task_id: 2, epoch: 3, train_accuracy: 0.9945589539007093\n",
      "Starting epoch: 4\n"
     ]
    },
    {
     "data": {
      "application/vnd.jupyter.widget-view+json": {
       "model_id": "a309ce907bd646688f7f3da68244bd7c",
       "version_major": 2,
       "version_minor": 0
      },
      "text/plain": [
       "  0%|          | 0/235 [00:00<?, ?it/s]"
      ]
     },
     "metadata": {},
     "output_type": "display_data"
    },
    {
     "name": "stdout",
     "output_type": "stream",
     "text": [
      "task_id: 2, epoch: 4, train_accuracy: 0.9963264627659575\n",
      "Current task: 2, Validating on task: 0, Accuracy: 0.2423\n",
      "Current task: 2, Validating on task: 1, Accuracy: 0.7394\n",
      "Current task: 2, Validating on task: 2, Accuracy: 0.98\n",
      "Current task: 2, Validating on task: 3, Accuracy: 0.4153\n",
      "Current task: 2, Validating on task: 4, Accuracy: 0.1601\n",
      "Starting task_id: 3\n",
      "Starting epoch: 0\n"
     ]
    },
    {
     "data": {
      "application/vnd.jupyter.widget-view+json": {
       "model_id": "8f12c8e2b960465fadc784717ba3725e",
       "version_major": 2,
       "version_minor": 0
      },
      "text/plain": [
       "  0%|          | 0/235 [00:00<?, ?it/s]"
      ]
     },
     "metadata": {},
     "output_type": "display_data"
    },
    {
     "name": "stdout",
     "output_type": "stream",
     "text": [
      "task_id: 3, epoch: 0, train_accuracy: 0.9509197695035461\n",
      "Starting epoch: 1\n"
     ]
    },
    {
     "data": {
      "application/vnd.jupyter.widget-view+json": {
       "model_id": "da1bfbedb59e42f090d6658a4e470d54",
       "version_major": 2,
       "version_minor": 0
      },
      "text/plain": [
       "  0%|          | 0/235 [00:00<?, ?it/s]"
      ]
     },
     "metadata": {},
     "output_type": "display_data"
    },
    {
     "name": "stdout",
     "output_type": "stream",
     "text": [
      "task_id: 3, epoch: 1, train_accuracy: 0.9839982269503545\n",
      "Starting epoch: 2\n"
     ]
    },
    {
     "data": {
      "application/vnd.jupyter.widget-view+json": {
       "model_id": "cd68f1866f13415e9820ae0d31324743",
       "version_major": 2,
       "version_minor": 0
      },
      "text/plain": [
       "  0%|          | 0/235 [00:00<?, ?it/s]"
      ]
     },
     "metadata": {},
     "output_type": "display_data"
    },
    {
     "name": "stdout",
     "output_type": "stream",
     "text": [
      "task_id: 3, epoch: 2, train_accuracy: 0.990979609929078\n",
      "Starting epoch: 3\n"
     ]
    },
    {
     "data": {
      "application/vnd.jupyter.widget-view+json": {
       "model_id": "60f2363f8c344d98bcdc5b8d049cb730",
       "version_major": 2,
       "version_minor": 0
      },
      "text/plain": [
       "  0%|          | 0/235 [00:00<?, ?it/s]"
      ]
     },
     "metadata": {},
     "output_type": "display_data"
    },
    {
     "name": "stdout",
     "output_type": "stream",
     "text": [
      "task_id: 3, epoch: 3, train_accuracy: 0.9946199024822694\n",
      "Starting epoch: 4\n"
     ]
    },
    {
     "data": {
      "application/vnd.jupyter.widget-view+json": {
       "model_id": "ba508137ee744f1ab881847618782c9e",
       "version_major": 2,
       "version_minor": 0
      },
      "text/plain": [
       "  0%|          | 0/235 [00:00<?, ?it/s]"
      ]
     },
     "metadata": {},
     "output_type": "display_data"
    },
    {
     "name": "stdout",
     "output_type": "stream",
     "text": [
      "task_id: 3, epoch: 4, train_accuracy: 0.996309840425532\n",
      "Current task: 3, Validating on task: 0, Accuracy: 0.2724\n",
      "Current task: 3, Validating on task: 1, Accuracy: 0.2554\n",
      "Current task: 3, Validating on task: 2, Accuracy: 0.7528\n",
      "Current task: 3, Validating on task: 3, Accuracy: 0.9842\n",
      "Current task: 3, Validating on task: 4, Accuracy: 0.4501\n",
      "Starting task_id: 4\n",
      "Starting epoch: 0\n"
     ]
    },
    {
     "data": {
      "application/vnd.jupyter.widget-view+json": {
       "model_id": "3ab8035991174717859954157a5ad0e2",
       "version_major": 2,
       "version_minor": 0
      },
      "text/plain": [
       "  0%|          | 0/235 [00:00<?, ?it/s]"
      ]
     },
     "metadata": {},
     "output_type": "display_data"
    },
    {
     "name": "stdout",
     "output_type": "stream",
     "text": [
      "task_id: 4, epoch: 0, train_accuracy: 0.9544437056737588\n",
      "Starting epoch: 1\n"
     ]
    },
    {
     "data": {
      "application/vnd.jupyter.widget-view+json": {
       "model_id": "5d297362ebae46a8aa0e695fa4039eeb",
       "version_major": 2,
       "version_minor": 0
      },
      "text/plain": [
       "  0%|          | 0/235 [00:00<?, ?it/s]"
      ]
     },
     "metadata": {},
     "output_type": "display_data"
    },
    {
     "name": "stdout",
     "output_type": "stream",
     "text": [
      "task_id: 4, epoch: 1, train_accuracy: 0.9862089982269503\n",
      "Starting epoch: 2\n"
     ]
    },
    {
     "data": {
      "application/vnd.jupyter.widget-view+json": {
       "model_id": "8f955c6e21084290b8e6ab843c3877ec",
       "version_major": 2,
       "version_minor": 0
      },
      "text/plain": [
       "  0%|          | 0/235 [00:00<?, ?it/s]"
      ]
     },
     "metadata": {},
     "output_type": "display_data"
    },
    {
     "name": "stdout",
     "output_type": "stream",
     "text": [
      "task_id: 4, epoch: 2, train_accuracy: 0.9921043882978723\n",
      "Starting epoch: 3\n"
     ]
    },
    {
     "data": {
      "application/vnd.jupyter.widget-view+json": {
       "model_id": "5f010ef839464e5a9e7beab7d9ab3786",
       "version_major": 2,
       "version_minor": 0
      },
      "text/plain": [
       "  0%|          | 0/235 [00:00<?, ?it/s]"
      ]
     },
     "metadata": {},
     "output_type": "display_data"
    },
    {
     "name": "stdout",
     "output_type": "stream",
     "text": [
      "task_id: 4, epoch: 3, train_accuracy: 0.9961602393617022\n",
      "Starting epoch: 4\n"
     ]
    },
    {
     "data": {
      "application/vnd.jupyter.widget-view+json": {
       "model_id": "5a0afb8341094a2ab8cd422a1308ac9f",
       "version_major": 2,
       "version_minor": 0
      },
      "text/plain": [
       "  0%|          | 0/235 [00:00<?, ?it/s]"
      ]
     },
     "metadata": {},
     "output_type": "display_data"
    },
    {
     "name": "stdout",
     "output_type": "stream",
     "text": [
      "task_id: 4, epoch: 4, train_accuracy: 0.9975398936170212\n",
      "Current task: 4, Validating on task: 0, Accuracy: 0.3669\n",
      "Current task: 4, Validating on task: 1, Accuracy: 0.2846\n",
      "Current task: 4, Validating on task: 2, Accuracy: 0.333\n",
      "Current task: 4, Validating on task: 3, Accuracy: 0.7947\n",
      "Current task: 4, Validating on task: 4, Accuracy: 0.9855\n"
     ]
    }
   ],
   "source": [
    "set_seed()\n",
    "\n",
    "# Train another model without any continual learning\n",
    "si_model_no_cl = SynapticIntelligenceLearner(si_c=0.0, si_epsilon=SI_EPSILON, lr=LEARNING_RATE)\n",
    "val_acc_arr_no_cl = train_val(si_model_no_cl, \n",
    "                              list_degrees=list_degrees, \n",
    "                              train_dataset=train_dataset, \n",
    "                              val_dataset=val_dataset,\n",
    "                              num_epochs=NUM_EPOCHS, \n",
    "                              batch_size=BATCH_SIZE)"
   ]
  },
  {
   "cell_type": "code",
   "execution_count": 14,
   "id": "personal-reaction",
   "metadata": {},
   "outputs": [],
   "source": [
    "# Compute the CL metrics\n",
    "cl_metrics_no_cl = get_cl_metrics(val_acc_arr_no_cl)\n",
    "\n",
    "# Compute the average accuracy (over other tasks) for each current task\n",
    "avg_acc_curr_past_no_cl, avg_acc_all_no_cl = get_avg_acc(val_acc_arr_no_cl)"
   ]
  },
  {
   "cell_type": "code",
   "execution_count": 15,
   "id": "mineral-adrian",
   "metadata": {},
   "outputs": [
    {
     "data": {
      "image/png": "[encoded data removed]",
      "text/plain": [
       "<Figure size 1440x360 with 2 Axes>"
      ]
     },
     "metadata": {
      "needs_background": "light"
     },
     "output_type": "display_data"
    }
   ],
   "source": [
    "# Compare the results\n",
    "\n",
    "# Line plots for average accuracy\n",
    "\n",
    "fig, ax = plt.subplots(1,2,figsize=(20,5))\n",
    "\n",
    "ax[0].plot(avg_acc_curr_past, lw=2, color='blue', marker='o', label='SI')\n",
    "ax[0].plot(avg_acc_curr_past_no_cl, lw=2, color='red', marker='o', label='FT')\n",
    "\n",
    "ax[1].plot(avg_acc_all, lw=2, color='blue', marker='o', label='SI')\n",
    "ax[1].plot(avg_acc_all_no_cl, lw=2, color='red', marker='o', label='FT')\n",
    "\n",
    "ax[0].set_title(\"Average accuracy over current and past tasks\")\n",
    "ax[1].set_title(\"Average accuracy over current, past, and future tasks\")\n",
    "for a in ax:\n",
    "    a.set_xlabel(\"Current task\")\n",
    "    a.set_ylabel(\"Accuracy\")\n",
    "    a.set_ylim([0.0,1.0])\n",
    "    a.grid(True)\n",
    "    a.legend()"
   ]
  },
  {
   "cell_type": "code",
   "execution_count": 16,
   "id": "opponent-foster",
   "metadata": {},
   "outputs": [
    {
     "data": {
      "image/png": "[encoded data removed]",
      "text/plain": [
       "<Figure size 720x360 with 1 Axes>"
      ]
     },
     "metadata": {
      "needs_background": "light"
     },
     "output_type": "display_data"
    }
   ],
   "source": [
    "# Bar plots for CL metrics\n",
    "\n",
    "fig, ax = plt.subplots(1,1,figsize=(10,5))\n",
    "width = 0.2\n",
    "\n",
    "ax.bar(np.arange(4)-width/2.0, \n",
    "      (cl_metrics['acc'], cl_metrics['bwt_plus'], cl_metrics['rem'], cl_metrics['fwt']), \n",
    "       width=width, \n",
    "       label='SI',\n",
    "       color='blue')\n",
    "ax.bar(np.arange(4)+width/2.0, \n",
    "      (cl_metrics_no_cl['acc'], cl_metrics_no_cl['bwt_plus'], cl_metrics_no_cl['rem'], cl_metrics_no_cl['fwt']), \n",
    "       width=width, \n",
    "       label='FT',\n",
    "       color='red')\n",
    "\n",
    "ax.grid(True)\n",
    "ax.set_xticks([0,1,2,3])\n",
    "ax.set_xticklabels(['acc', 'bwt_plus', 'rem', 'fwt'])\n",
    "ax.set_xlabel('CL Metrics')\n",
    "ax.set_ylabel('Metric score')\n",
    "ax.set_ylim([0.0, 1.0])\n",
    "ax.legend()\n",
    "_ = ax.set_title('CL Metrics')"
   ]
  }
 ],
 "metadata": {
  "kernelspec": {
   "display_name": "venv1",
   "language": "python",
   "name": "venv1"
  },
  "language_info": {
   "codemirror_mode": {
    "name": "ipython",
    "version": 3
   },
   "file_extension": ".py",
   "mimetype": "text/x-python",
   "name": "python",
   "nbconvert_exporter": "python",
   "pygments_lexer": "ipython3",
   "version": "3.8.10"
  }
 },
 "nbformat": 4,
 "nbformat_minor": 5
}
