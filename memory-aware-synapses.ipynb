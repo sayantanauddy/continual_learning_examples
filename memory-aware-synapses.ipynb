{
 "cells": [
  {
   "cell_type": "markdown",
   "id": "9b43d8a3",
   "metadata": {},
   "source": [
    "# Memory Aware Synapses\n",
    "[Paper](https://arxiv.org/abs/1711.09601)\n",
    "[Code](https://github.com/rahafaljundi/MAS-Memory-Aware-Synapses)\n",
    "[Code-PyTorch](https://github.com/wannabeOG/MAS-PyTorch)"
   ]
  },
  {
   "cell_type": "markdown",
   "id": "d2b57a27",
   "metadata": {},
   "source": [
    "## Main Contributions:\n",
    "\n",
    "* Proposes a regularization-based method (parameters are regularized based on their importance) that uses the sensititivity of the network's output function to the change in parameters as a measure of parameter importance.\n",
    "* Parameter importance can be computed in an unsupervised manner without the need of labels (parameter importance is not dependent on the loss)\n",
    "* Specific groups or tasks can be prioritized for not forgetting. This way parameters can be freed up from remembering unimportant things.\n",
    "* Link with Hebbian Learning\n",
    "* Global MAS - uses $L_2^2$ norm of output, Local MAS - uses layer wise outputs for gradient computation.\n",
    "* Better performance than SI, EWC, LwF, ELLB, IMM.\n",
    "* Among the competing methods, SI and EWC perform the best.\n",
    "* Can be used with a pretrained model (importance calculation can be independent from initial training phase)\n",
    "* Points out short-comings of SI (check related work for hand-written comments on disadvantages of SI and advantages of MAS over SI)\n",
    "\n",
    "## How is parameter importance calculated?\n",
    "\n",
    "A trained model learns an approximation $F$ of the true function $\\bar{F}$. \n",
    "\n",
    "Need to measure how sensitive the function $F$ is to changes in the network parameters. For a given datapoint $x_k$, the output is $F(x_k, \\theta)$.\n",
    "\n",
    "A small perturbation $\\delta=\\{\\delta_{ij}\\}$ in the parameters $\\theta=\\{\\theta_{ij}\\}$ results in a change in $F$, that can be approximated by:\n",
    "\\begin{equation}\n",
    " F(x_k; \\theta+\\delta) -F(x_k; \\theta) \\approx \\sum_{i,j} \\cfrac{\\partial{(F(x_k;\\theta))}}{\\partial \\theta_{ij}}\\delta_{ij} = \\sum_{i,j} g_{ij}(x_k)\\delta_{ij}\n",
    "\\end{equation}\n",
    "\n",
    "The importance of a parameter $\\theta_{ij}$ is measured by the magnitude of the gradient $g_{ij}$. The importance is summed over all datapoints to get the final importance measure.\n",
    "\n",
    "\\begin{equation}\n",
    "    \\Omega_{ij} = \\cfrac{1}{N} \\sum_{k=1}^{N} \\vert\\vert g_{ij}(x_k) \\vert\\vert\n",
    "\\end{equation}\n",
    "\n",
    "In most cases, $F$ is multi-dimensional. Thus multiple backward passes need to be performed to compute the gradient w.r.t. each dimension of $F$. To avoid this, the squared-$L_2$ norm of $F$ is used to compute the gradient. In this way only 1 backward pass is necessary. Thus $g_{ij}(x_k) = \\cfrac{\\partial{[L_2^2(F(x_k;\\theta))]}}{\\partial \\theta_{ij}}$. It is verified empirically in the paper that using the $L_2$ norm has the same performance.\n",
    "\n",
    "The loss function for learning the $n^{\\text{th}}$ task is given by\n",
    "\n",
    "\\begin{equation}\n",
    "    \\mathcal{L}(\\theta) = \\mathcal{L_n}(\\theta) + \\lambda \\sum_{i,j} \\Omega_{ij}(\\theta_{ij} - \\theta^*_{ij})^2\n",
    "\\end{equation}\n",
    "\n",
    "where $\\lambda$ is the regularization strength, $\\theta^*_{ij}$ is the parameters learned till task $n-1$ and $\\mathcal{L_n}(\\theta)$ is the task specific loss for task $n$    . The importance term $\\Omega$ is accumulated (summed, or averaged?) with the previous $\\Omega$.\n",
    "\n",
    "## Specifics\n",
    "* 3 kinds of evaluations:\n",
    "    - 2 task sequences using 3 different **image classification** datasets, comparing 6 methods\n",
    "    - Longer sequence of 8 tasks using 8 different classification datasets, comparing 7 methods\n",
    "    - 4 task sequence using different groups of a **fact-learning** dataset (6DS), comparing 4 methods (including joint training and finetuning)\n",
    "* Network types:\n",
    "    - For image classification experiments: AlexNet (PyTorch model has 61.1 million parameters). Multi-headed architecture is used (one head per task).\n",
    "    - For fact learning task, a VGG-16 network (PyTorch model has 138.4 million parameters) is used in which all parameters are shared (not multi-headed for tasks). The network has 3 heads corresponding to the 3 outputs that are needed for all tasks.\n",
    "* Global MAS is used for experiments.\n",
    "* Importance weights are estimated using training data.\n",
    "* $\\lambda=1$ is used.\n"
   ]
  },
  {
   "cell_type": "code",
   "execution_count": 1,
   "id": "d395e8a7",
   "metadata": {},
   "outputs": [],
   "source": [
    "import numpy as np\n",
    "import random\n",
    "from sklearn.metrics import accuracy_score\n",
    "from tqdm.notebook import trange, tqdm\n",
    "import matplotlib.pyplot as plt\n",
    "%matplotlib inline\n",
    "\n",
    "import torch\n",
    "import torch.nn as nn\n",
    "from torch.nn import Sequential\n",
    "import torch.optim as optim\n",
    "import torch.nn.functional as F\n",
    "from torch.utils.data import DataLoader\n",
    "\n",
    "from continuum import Rotations, Permutations\n",
    "from continuum.datasets import MNIST\n",
    "\n",
    "import time"
   ]
  },
  {
   "cell_type": "code",
   "execution_count": 2,
   "id": "983928ee",
   "metadata": {},
   "outputs": [],
   "source": [
    "def check_cuda():\n",
    "    \"\"\"\n",
    "    Checks if GPU is available.\n",
    "    \"\"\"    \n",
    "    cuda_available = torch.cuda.is_available()\n",
    "    device = torch.device('cuda' if cuda_available else 'cpu')\n",
    "    return cuda_available, device\n",
    "\n",
    "def set_seed(seed=1000):\n",
    "    \"\"\"\n",
    "    Sets the seed for reproducability\n",
    "    \"\"\"\n",
    "    torch.manual_seed(seed)\n",
    "    random.seed(seed)\n",
    "    np.random.seed(seed)\n",
    "    \n",
    "    cuda_available, _ = check_cuda()\n",
    "    if cuda_available:\n",
    "        torch.backends.cudnn.benchmark = False\n",
    "        torch.use_deterministic_algorithms(True)\n",
    "        torch.backends.cudnn.deterministic = True\n",
    "        torch.cuda.manual_seed_all(seed)"
   ]
  },
  {
   "cell_type": "code",
   "execution_count": 3,
   "id": "ad8ff1ec",
   "metadata": {},
   "outputs": [],
   "source": [
    "def get_cl_metrics(arr):\n",
    "    \"\"\"\n",
    "    Given an array of validation accuracies (each current task along the rows,\n",
    "    and accuracy of the tasks in the columns), this function computes the \n",
    "    CL metrics according to the following paper:\n",
    "    Don't forget, there is more than forgetting: new metrics for Continual Learning,\n",
    "    Natalia Díaz-Rodríguez et al. [https://arxiv.org/pdf/1810.13166.pdf]\n",
    "    \n",
    "    We are using our own function instead of the Logger from continvvm because of\n",
    "    a lack of sufficient documentation, and to illustrate how the CL metrics can \n",
    "    be computed.\n",
    "    \n",
    "    The following metrics are computed:\n",
    "        - Accuracy,\n",
    "        - Backward Transfer,\n",
    "        - BWT+,\n",
    "        - REM,\n",
    "        - FWT\n",
    "        \n",
    "    Args:\n",
    "        arr (Numpy array): Array of validation accuracies\n",
    "\n",
    "    Returns:\n",
    "        cl_metrics (dict): Dictionary of CL metrics acc, bwt, bwt_plus, rem, fwt\n",
    "    \"\"\"\n",
    "\n",
    "    n = arr.shape[0]\n",
    "\n",
    "    # Accuracy considers the average accuracy by considering the diagonal \n",
    "    # elements as well as all elements below it\n",
    "    # This is equivalent to computing the sum of the lower traingular matrix\n",
    "    # and dividing that sum by N(N+1)/2\n",
    "    acc = np.sum(np.tril(arr))/(n*(n+1)/2.0)\n",
    "\n",
    "    # Backward transfer (BWT) \n",
    "    bwt = 0.0\n",
    "    for i in range(1, n):\n",
    "        for j in range(0, i):\n",
    "            bwt += (arr[i,j] - arr[j,j])\n",
    "    bwt /= (n*(n-1)/2.0)   \n",
    "\n",
    "    rem = 1.0 - np.abs(np.min([bwt, 0.0]))\n",
    "    bwt_plus = np.max([bwt, 0.0])\n",
    "\n",
    "    # Forward Transfer:  FWT measures the influence that learning a task has \n",
    "    # on the performance of future tasks\n",
    "    # This is the average accuracy for the train-test accuracy entries\n",
    "    # above the principal diagonal, excluding it \n",
    "    # This is equivalent to the sum of the upper tril minus the trace\n",
    "    fwt = (np.sum(np.triu(arr)) - np.trace(arr))/(n*(n-1)/2.0)\n",
    "\n",
    "    cl_metrics = {'acc': acc, 'bwt': bwt, 'bwt_plus': bwt_plus, 'rem': rem, 'fwt': fwt}\n",
    "    return cl_metrics"
   ]
  },
  {
   "cell_type": "code",
   "execution_count": 4,
   "id": "d4a75d6a",
   "metadata": {},
   "outputs": [],
   "source": [
    "def get_avg_acc(arr):\n",
    "    \"\"\"\n",
    "    Computes the average accuracies over validation tasks\n",
    "    \n",
    "    Args:\n",
    "        arr (Numpy array): Array of validation accuracies (each current task \n",
    "                           along the rows,and accuracy of the tasks in the columns)\n",
    "                           \n",
    "    Returns:\n",
    "        avg_acc_curr_past (Numpy array):\n",
    "        avg_acc_all (Numpy array):\n",
    "    \"\"\"\n",
    "    \n",
    "    (nb_tasks, _) = arr.shape\n",
    "    \n",
    "    avg_acc_curr_past = np.zeros((nb_tasks,))\n",
    "    avg_acc_all = np.zeros((nb_tasks,))\n",
    "    \n",
    "    for curr_task in range(nb_tasks):\n",
    "        avg_acc_curr_past[curr_task] = np.mean(arr[curr_task,:curr_task+1])\n",
    "        avg_acc_all[curr_task] = np.mean(arr[curr_task,:])\n",
    "        \n",
    "    return avg_acc_curr_past, avg_acc_all"
   ]
  },
  {
   "cell_type": "code",
   "execution_count": 5,
   "id": "8744921e",
   "metadata": {},
   "outputs": [],
   "source": [
    "class MemoryAwareSynapsesLearner(nn.Module):\n",
    "    \n",
    "    def __init__(self, mas_lambda, lr, model=None):\n",
    "        \"\"\"\n",
    "        Initialize the MemoryAwareSynapsesLearner object.\n",
    "        Creates the network, sets the MAS hyperparameters and\n",
    "        initializes the buffer objects required for updates.\n",
    "        \n",
    "        Args:\n",
    "            mas_lambda (float): Regularization strength parameters\n",
    "            lr (float): Learning rate for optimizer\n",
    "            model (torch.nn.module): The network model\n",
    "\n",
    "        \"\"\"\n",
    "        super().__init__()\n",
    "        \n",
    "        # Set the network\n",
    "        if model is not None:\n",
    "            self.model = model\n",
    "        else:\n",
    "            self.model = Sequential(nn.Linear(784, 2000),\n",
    "                         nn.ReLU(),\n",
    "                         nn.Linear(2000,2000),\n",
    "                         nn.ReLU(),\n",
    "                         nn.Linear(2000,10))\n",
    "        \n",
    "        # Set the MAS hyperparameters\n",
    "        self.mas_lambda = mas_lambda           \n",
    "        \n",
    "        # Optimizer hyperparameters\n",
    "        self.lr = lr\n",
    "        \n",
    "        # Setting buffers for regularization parameters\n",
    "        for n, p in self.model.named_parameters():\n",
    "            if p.requires_grad:\n",
    "                n = n.replace('.', '__')\n",
    "                self.register_buffer(f'{n}_theta_prev', p.data.detach().clone().zero_())\n",
    "                self.register_buffer(f'{n}_omega_curr', p.data.detach().clone().zero_())\n",
    "                self.register_buffer(f'{n}_omega_prev', p.data.detach().clone().zero_())\n",
    "                        \n",
    "        # Set the optimizer\n",
    "        self.reset_optimizer()\n",
    "                \n",
    "    def reset_optimizer(self):\n",
    "        \"\"\"\n",
    "        Resets the optimizer\n",
    "        \"\"\"\n",
    "        self.optimizer = optim.Adam(self.model.parameters(), self.lr)     \n",
    "        \n",
    "    def update_omega(self, dataloader, device='cpu', timeit=False):\n",
    "        \"\"\"\n",
    "        Updates the per-parameter importance once training is complete for a task.\n",
    "        \n",
    "        Here, we compute the per-sample gradient by iterating over a dataloader\n",
    "        with a bach size of 1, but this is painfully slow. \n",
    "        More efficient implements are possible. For example, \n",
    "        see: [BackPACK](https://github.com/f-dangel/backpack). However,\n",
    "        further tests are needed for more complex architectures.\n",
    "        \"\"\"\n",
    "        start = time.time()\n",
    "        \n",
    "        # Find the number of data points\n",
    "        datalen = len(dataloader.dataset)\n",
    "\n",
    "        # Find the number of batches\n",
    "        num_batches = len(dataloader)\n",
    "        \n",
    "        # We need per sample gradients\n",
    "        # Make sure that the batch size is 1\n",
    "        # that is the number of batches should equal the number of data points\n",
    "        assert num_batches == datalen, 'Batch-size must be 1 for per-sample gradients'\n",
    "        \n",
    "        # Set the model to eval\n",
    "        self.model = self.model.to(device)\n",
    "        self.model.eval()\n",
    "                \n",
    "        for x, _, _ in tqdm(dataloader):\n",
    "            \n",
    "            # Need to convert to cuda\n",
    "            # How does this work in PL?\n",
    "            x = x.to(device)\n",
    "            \n",
    "            # Reset all gradients of the model\n",
    "            self.model.zero_grad()\n",
    "            \n",
    "            # Forward pass to compute the output\n",
    "            x = torch.flatten(x, 1)\n",
    "            output = self.model(x)\n",
    "            \n",
    "            # L2 norm of the output\n",
    "            l2_norm = torch.norm(output, p=2, dim=1)\n",
    "            \n",
    "            # Square the L2 norm and sum\n",
    "            sum_sq_l2_norm = torch.sum(l2_norm**2)\n",
    "            \n",
    "            # Compute the gradients (backward pass)\n",
    "            sum_sq_l2_norm.backward()\n",
    "            \n",
    "            # Loop over all parameters\n",
    "            for n, p in self.model.named_parameters():\n",
    "                if p.requires_grad:\n",
    "                    n = n.replace('.', '__')\n",
    "                    \n",
    "                    # Retrieve current omega for this parameter\n",
    "                    try:\n",
    "                        omega_curr = getattr(self, f'{n}_omega_curr')\n",
    "                    except AttributeError:\n",
    "                        omega_curr = p.detach().clone().zero_()\n",
    "                    \n",
    "                    # Retrieve the absolute current gradient for this parameter\n",
    "                    p_abs_grad = torch.abs(p.grad.detach().clone())\n",
    "                                        \n",
    "                    # Update the current omega for this parameter\n",
    "                    # The gradient is normalized by the number of datapoints\n",
    "                    omega_curr = torch.add(omega_curr, p_abs_grad, alpha=1.0/datalen)\n",
    "                    \n",
    "                    # Update the current omega in the buffer\n",
    "                    self.register_buffer(f'{n}_omega_curr', omega_curr)\n",
    "                    \n",
    "        end = time.time()\n",
    "        if timeit:\n",
    "            print(f'Total time for omega update: {end-start}')\n",
    "                    \n",
    "    def merge_omega(self):     \n",
    "        \"\"\"\n",
    "        Once omega for the current task has been computed, merge this \n",
    "        with the omega computed for the previous tasks\n",
    "        \"\"\" \n",
    "        \n",
    "        # Loop over all parameters\n",
    "        for n, p in self.model.named_parameters():\n",
    "            if p.requires_grad:\n",
    "                n = n.replace('.', '__')\n",
    "\n",
    "                # Retrieve previous omega for this parameter\n",
    "                try:\n",
    "                    omega_prev = getattr(self, f'{n}_omega_prev')\n",
    "                except AttributeError:\n",
    "                    omega_prev = p.detach().clone().zero_()\n",
    "\n",
    "                # Retrieve current omega for this parameter\n",
    "                omega_curr = getattr(self, f'{n}_omega_curr')\n",
    "\n",
    "                # Update the current omega\n",
    "                omega_curr = torch.add(omega_prev, omega_curr)\n",
    "                self.register_buffer(f'{n}_omega_prev', omega_curr)\n",
    "                \n",
    "    def update_theta_prev(self):\n",
    "        \"\"\"\n",
    "        Once training is over for the current task, the current\n",
    "        parameter values need to be saved\n",
    "        \"\"\"\n",
    "        for n, p in self.model.named_parameters():\n",
    "            if p.requires_grad:\n",
    "                n = n.replace('.', '__')\n",
    "                self.register_buffer(f'{n}_theta_prev', p.data.detach().clone())\n",
    "\n",
    "    def regularization_loss(self):\n",
    "        \"\"\"\n",
    "        Computes the regularization loss in MAS using the per-parameter importance and\n",
    "        the current and previous parameter values.\n",
    "        \"\"\"\n",
    "        try:\n",
    "            losses = []\n",
    "            for n, p in self.model.named_parameters():\n",
    "                if p.requires_grad:\n",
    "                    # Retrieve previous parameter values and the corresponding omega\n",
    "                    n = n.replace('.', '__')\n",
    "                    prev_values = getattr(self, f'{n}_theta_prev')\n",
    "                    omega_prev = getattr(self, f'{n}_omega_prev')\n",
    "                    # Calculate MAS's surrogate loss, sum over all parameters\n",
    "                    losses.append((omega_prev * (p-prev_values)**2).sum())\n",
    "            return sum(losses)\n",
    "        except AttributeError:\n",
    "            # Regularization loss is 0 if there is no stored omega yet\n",
    "            return torch.tensor(0.)\n",
    "        \n",
    "    def train_step(self, x, y, t):\n",
    "        \"\"\"\n",
    "        Single batch of training\n",
    "        \n",
    "        Args:\n",
    "            x (torch tensor): Batch of inputs\n",
    "            y (torch tensor): Batch of labels\n",
    "            t (torch tensor): Batch of task ids\n",
    "        \"\"\"\n",
    "        \n",
    "        # Zero the parameter gradients\n",
    "        self.optimizer.zero_grad()\n",
    "\n",
    "        # Perform a forward pass and compute the cross entropy loss\n",
    "        x = torch.flatten(x, 1)\n",
    "        y_hat = self.model(x)\n",
    "        loss = F.cross_entropy(input=y_hat, target=y, reduction='mean')\n",
    "        \n",
    "        # Compute the MAS regularization loss\n",
    "        regularization_loss = self.regularization_loss()\n",
    "        loss += self.mas_lambda * regularization_loss\n",
    "        \n",
    "        # Backprop and gradient step\n",
    "        loss.backward()\n",
    "        self.optimizer.step()\n",
    "\n",
    "        # Compute the training accuracy\n",
    "        pred = torch.argmax(y_hat, dim=-1)\n",
    "        acc = accuracy_score(y.detach().cpu().numpy(), pred.detach().cpu().numpy(), normalize=True)\n",
    "                \n",
    "        # Return the training accuracy\n",
    "        return acc\n",
    "            \n",
    "    def val_step(self, x, y, t):\n",
    "        \"\"\"\n",
    "        Single batch of validation\n",
    "        \n",
    "        Args:\n",
    "            x (torch tensor): Batch of inputs\n",
    "            y (torch tensor): Batch of labels\n",
    "            t (torch tensor): Batch of task ids\n",
    "        \"\"\"\n",
    "                \n",
    "        with torch.no_grad():\n",
    "            \n",
    "            # Forward pass\n",
    "            x = torch.flatten(x, 1)\n",
    "            y_hat = self.model(x)\n",
    "            \n",
    "            # Compute the validation accuracy\n",
    "            pred = torch.argmax(y_hat, dim=-1)\n",
    "            acc = accuracy_score(y.detach().cpu().numpy(), pred.detach().cpu().numpy(), normalize=True)\n",
    "            \n",
    "        return acc"
   ]
  },
  {
   "cell_type": "code",
   "execution_count": 18,
   "id": "split-pathology",
   "metadata": {},
   "outputs": [],
   "source": [
    "def train_val(model, \n",
    "              list_degrees, \n",
    "              train_dataset, \n",
    "              val_dataset, \n",
    "              num_epochs, \n",
    "              batch_size, \n",
    "              seeds,\n",
    "              mnist_type='Rotated',\n",
    "              num_tasks=None,\n",
    "              reg=True, \n",
    "              device='cpu'):\n",
    "    \"\"\"\n",
    "    Complete training and validation loop over all tasks.\n",
    "    \n",
    "    Once training is complete for a task, validation is performed using the validation\n",
    "    datasets of all past, current and future tasks. This is needed for computing the \n",
    "    CL metrics.\n",
    "    \n",
    "    Args:\n",
    "        model (MemoryAwareSynapsesLearner): The learner class\n",
    "        list_degrees (list): List of angles in degrees for the RotatedMNIST tasks\n",
    "        train_dataset (MNIST): Training MNIST Dataset object \n",
    "        val_dataset (MNIST): Validation MNIST Dataset object \n",
    "        num_epochs (int): Number of training epochs\n",
    "        seeds (int): List of seeds for PMNIST\n",
    "        mnist_type (str): Rotated or Permuted\n",
    "        batch_size (int): Batch size for training\n",
    "        device (str): Device to use for training ('cpu' or 'cuda')\n",
    "        \n",
    "    Returns:\n",
    "        val_acc_arr (Numpy array): Array of validation accuracies (each current task \n",
    "                                   along the rows,and accuracy of the tasks in the columns)\n",
    "    \"\"\"\n",
    "    nb_tasks = len(list_degrees) if num_tasks is None else num_tasks\n",
    "\n",
    "    # Array to store validation accuracies (each current task along the rows,\n",
    "    # and accuracy of the tasks in the columns)\n",
    "    val_acc_arr = np.zeros((nb_tasks, nb_tasks))\n",
    "\n",
    "    if mnist_type == 'Rotated':\n",
    "        train_scenario = Rotations(cl_dataset=train_dataset,\n",
    "                                   nb_tasks=nb_tasks,\n",
    "                                   list_degrees=list_degrees)\n",
    "\n",
    "        val_scenario = Rotations(cl_dataset=val_dataset,\n",
    "                                 nb_tasks=nb_tasks,\n",
    "                                 list_degrees=list_degrees)\n",
    "        \n",
    "    elif mnist_type == 'Permuted':\n",
    "        train_scenario = Permutations(cl_dataset=train_dataset,\n",
    "                                      nb_tasks=nb_tasks,\n",
    "                                      seed=seeds,\n",
    "                                      shared_label_space=True)\n",
    "        \n",
    "        val_scenario = Permutations(cl_dataset=val_dataset,\n",
    "                                    nb_tasks=nb_tasks,\n",
    "                                    seed=seeds,\n",
    "                                    shared_label_space=True)\n",
    "\n",
    "\n",
    "    for task_id, train_taskset in enumerate(train_scenario):\n",
    "\n",
    "        print(f'Starting task_id: {task_id}')\n",
    "\n",
    "        train_loader = DataLoader(train_taskset, batch_size=batch_size, shuffle=True)\n",
    "\n",
    "        for epoch in range(num_epochs):\n",
    "            \n",
    "            print(f'Starting epoch: {epoch}')\n",
    "            \n",
    "            model.train()\n",
    "\n",
    "            train_accuracies = list()\n",
    "\n",
    "            for x, y, t in tqdm(train_loader):\n",
    "                train_accuracies.append(model.train_step(x.to(device), y.to(device), t.to(device)))\n",
    "\n",
    "            train_acc = np.mean(train_accuracies)\n",
    "\n",
    "            print(f'task_id: {task_id}, epoch: {epoch}, train_accuracy: {train_acc}')\n",
    "\n",
    "        if reg:\n",
    "            # Update omega on ending a task\n",
    "            # We need to pass a dataloader with a batch size of 1\n",
    "            data_loader_omega = DataLoader(val_scenario[task_id], batch_size=1, shuffle=False)\n",
    "            model.update_omega(data_loader_omega, device=device)\n",
    "\n",
    "            # Save the parameters\n",
    "            model.update_theta_prev()\n",
    "\n",
    "            # Merge with previous omega if there were previous tasks\n",
    "            if task_id > 0:\n",
    "                model.merge_omega()\n",
    "\n",
    "        # At the end of the epoch validate on all tasks (past, current, and future tasks)\n",
    "        model.eval()\n",
    "        for val_task_id, val_taskset in enumerate(val_scenario):\n",
    "            val_loader = DataLoader(val_taskset, batch_size=1, shuffle=False)\n",
    "            val_accuracies = list()\n",
    "\n",
    "            for x, y, t in val_loader:\n",
    "                val_accuracies.append(model.val_step(x.to(device), y.to(device), t.to(device)))\n",
    "\n",
    "            val_acc = np.mean(val_accuracies)\n",
    "\n",
    "            val_acc_arr[task_id][val_task_id] = val_acc\n",
    "\n",
    "            print(f'Current task: {task_id}, Validating on task: {val_task_id}, Accuracy: {val_acc}')\n",
    "            \n",
    "        \n",
    "            \n",
    "    return val_acc_arr"
   ]
  },
  {
   "cell_type": "markdown",
   "id": "backed-angle",
   "metadata": {},
   "source": [
    "## Rotated MNIST (5 tasks)"
   ]
  },
  {
   "cell_type": "code",
   "execution_count": 7,
   "id": "appreciated-exemption",
   "metadata": {},
   "outputs": [],
   "source": [
    "# Setting hyperparameters\n",
    "NUM_EPOCHS = 1  # instead of 20 (in the paper)\n",
    "MAS_LAMBDA = 1.0\n",
    "LEARNING_RATE = 0.001\n",
    "BATCH_SIZE = 256"
   ]
  },
  {
   "cell_type": "code",
   "execution_count": 8,
   "id": "ecological-rates",
   "metadata": {},
   "outputs": [
    {
     "name": "stdout",
     "output_type": "stream",
     "text": [
      "cuda_available: False, device: cpu\n"
     ]
    }
   ],
   "source": [
    "# Check if CUDA is available\n",
    "cuda_available, device = check_cuda()\n",
    "print(f'cuda_available: {cuda_available}, device: {device}')"
   ]
  },
  {
   "cell_type": "code",
   "execution_count": 9,
   "id": "restricted-oracle",
   "metadata": {},
   "outputs": [],
   "source": [
    "# Create the Dataset objects\n",
    "list_degrees = [0, 45, 90, 135, 180]\n",
    "train_dataset = MNIST(data_path=\"dataset\", download=True, train=True)\n",
    "val_dataset = MNIST(data_path=\"dataset\", download=True, train=False)"
   ]
  },
  {
   "cell_type": "code",
   "execution_count": 10,
   "id": "unusual-native",
   "metadata": {},
   "outputs": [],
   "source": [
    "set_seed()\n",
    "\n",
    "# Create the learner object\n",
    "mas_model = MemoryAwareSynapsesLearner(mas_lambda=MAS_LAMBDA, lr=LEARNING_RATE)\n",
    "mas_model = mas_model.to(device)"
   ]
  },
  {
   "cell_type": "code",
   "execution_count": 11,
   "id": "outstanding-double",
   "metadata": {},
   "outputs": [
    {
     "name": "stdout",
     "output_type": "stream",
     "text": [
      "Starting task_id: 0\n",
      "Starting epoch: 0\n"
     ]
    },
    {
     "data": {
      "application/vnd.jupyter.widget-view+json": {
       "model_id": "df638142914843908181a30b2fd22829",
       "version_major": 2,
       "version_minor": 0
      },
      "text/plain": [
       "  0%|          | 0/235 [00:00<?, ?it/s]"
      ]
     },
     "metadata": {},
     "output_type": "display_data"
    },
    {
     "name": "stdout",
     "output_type": "stream",
     "text": [
      "task_id: 0, epoch: 0, train_accuracy: 0.9314937943262412\n"
     ]
    },
    {
     "data": {
      "application/vnd.jupyter.widget-view+json": {
       "model_id": "65d7daa745e54e52a54bb1bfecd382c0",
       "version_major": 2,
       "version_minor": 0
      },
      "text/plain": [
       "  0%|          | 0/10000 [00:00<?, ?it/s]"
      ]
     },
     "metadata": {},
     "output_type": "display_data"
    },
    {
     "name": "stdout",
     "output_type": "stream",
     "text": [
      "Current task: 0, Validating on task: 0, Accuracy: 0.9729\n",
      "Current task: 0, Validating on task: 1, Accuracy: 0.3472\n",
      "Current task: 0, Validating on task: 2, Accuracy: 0.1639\n",
      "Current task: 0, Validating on task: 3, Accuracy: 0.1865\n",
      "Current task: 0, Validating on task: 4, Accuracy: 0.2796\n",
      "Starting task_id: 1\n",
      "Starting epoch: 0\n"
     ]
    },
    {
     "data": {
      "application/vnd.jupyter.widget-view+json": {
       "model_id": "301a0027a9bf4bc6b09efa6dafd569c7",
       "version_major": 2,
       "version_minor": 0
      },
      "text/plain": [
       "  0%|          | 0/235 [00:00<?, ?it/s]"
      ]
     },
     "metadata": {},
     "output_type": "display_data"
    },
    {
     "name": "stdout",
     "output_type": "stream",
     "text": [
      "task_id: 1, epoch: 0, train_accuracy: 0.9427526595744681\n"
     ]
    },
    {
     "data": {
      "application/vnd.jupyter.widget-view+json": {
       "model_id": "5f831031f2e34a3083b5256180fac2ec",
       "version_major": 2,
       "version_minor": 0
      },
      "text/plain": [
       "  0%|          | 0/10000 [00:00<?, ?it/s]"
      ]
     },
     "metadata": {},
     "output_type": "display_data"
    },
    {
     "name": "stdout",
     "output_type": "stream",
     "text": [
      "Current task: 1, Validating on task: 0, Accuracy: 0.709\n",
      "Current task: 1, Validating on task: 1, Accuracy: 0.9735\n",
      "Current task: 1, Validating on task: 2, Accuracy: 0.3916\n",
      "Current task: 1, Validating on task: 3, Accuracy: 0.142\n",
      "Current task: 1, Validating on task: 4, Accuracy: 0.2616\n",
      "Starting task_id: 2\n",
      "Starting epoch: 0\n"
     ]
    },
    {
     "data": {
      "application/vnd.jupyter.widget-view+json": {
       "model_id": "4aae0e2d148945a98ca48d2a8c7ab46a",
       "version_major": 2,
       "version_minor": 0
      },
      "text/plain": [
       "  0%|          | 0/235 [00:00<?, ?it/s]"
      ]
     },
     "metadata": {},
     "output_type": "display_data"
    },
    {
     "name": "stdout",
     "output_type": "stream",
     "text": [
      "task_id: 2, epoch: 0, train_accuracy: 0.9028257978723404\n"
     ]
    },
    {
     "data": {
      "application/vnd.jupyter.widget-view+json": {
       "model_id": "0ad064e34e9a43038d99ff393d7a9cb9",
       "version_major": 2,
       "version_minor": 0
      },
      "text/plain": [
       "  0%|          | 0/10000 [00:00<?, ?it/s]"
      ]
     },
     "metadata": {},
     "output_type": "display_data"
    },
    {
     "name": "stdout",
     "output_type": "stream",
     "text": [
      "Current task: 2, Validating on task: 0, Accuracy: 0.3755\n",
      "Current task: 2, Validating on task: 1, Accuracy: 0.8003\n",
      "Current task: 2, Validating on task: 2, Accuracy: 0.9523\n",
      "Current task: 2, Validating on task: 3, Accuracy: 0.3657\n",
      "Current task: 2, Validating on task: 4, Accuracy: 0.1527\n",
      "Starting task_id: 3\n",
      "Starting epoch: 0\n"
     ]
    },
    {
     "data": {
      "application/vnd.jupyter.widget-view+json": {
       "model_id": "df6cd4ecf3634be3b7d85963e1801ca2",
       "version_major": 2,
       "version_minor": 0
      },
      "text/plain": [
       "  0%|          | 0/235 [00:00<?, ?it/s]"
      ]
     },
     "metadata": {},
     "output_type": "display_data"
    },
    {
     "name": "stdout",
     "output_type": "stream",
     "text": [
      "task_id: 3, epoch: 0, train_accuracy: 0.85823359929078\n"
     ]
    },
    {
     "data": {
      "application/vnd.jupyter.widget-view+json": {
       "model_id": "35f76ce28d7e448f875373ea8975981b",
       "version_major": 2,
       "version_minor": 0
      },
      "text/plain": [
       "  0%|          | 0/10000 [00:00<?, ?it/s]"
      ]
     },
     "metadata": {},
     "output_type": "display_data"
    },
    {
     "name": "stdout",
     "output_type": "stream",
     "text": [
      "Current task: 3, Validating on task: 0, Accuracy: 0.3839\n",
      "Current task: 3, Validating on task: 1, Accuracy: 0.682\n",
      "Current task: 3, Validating on task: 2, Accuracy: 0.8351\n",
      "Current task: 3, Validating on task: 3, Accuracy: 0.9215\n",
      "Current task: 3, Validating on task: 4, Accuracy: 0.3584\n",
      "Starting task_id: 4\n",
      "Starting epoch: 0\n"
     ]
    },
    {
     "data": {
      "application/vnd.jupyter.widget-view+json": {
       "model_id": "6980d2e62c4e45769b26e6bb6f3e96f8",
       "version_major": 2,
       "version_minor": 0
      },
      "text/plain": [
       "  0%|          | 0/235 [00:00<?, ?it/s]"
      ]
     },
     "metadata": {},
     "output_type": "display_data"
    },
    {
     "name": "stdout",
     "output_type": "stream",
     "text": [
      "task_id: 4, epoch: 0, train_accuracy: 0.8510693705673759\n"
     ]
    },
    {
     "data": {
      "application/vnd.jupyter.widget-view+json": {
       "model_id": "0c1c012a8c53435cbfc57fb9f44e8340",
       "version_major": 2,
       "version_minor": 0
      },
      "text/plain": [
       "  0%|          | 0/10000 [00:00<?, ?it/s]"
      ]
     },
     "metadata": {},
     "output_type": "display_data"
    },
    {
     "name": "stdout",
     "output_type": "stream",
     "text": [
      "Current task: 4, Validating on task: 0, Accuracy: 0.3166\n",
      "Current task: 4, Validating on task: 1, Accuracy: 0.4687\n",
      "Current task: 4, Validating on task: 2, Accuracy: 0.4883\n",
      "Current task: 4, Validating on task: 3, Accuracy: 0.7157\n",
      "Current task: 4, Validating on task: 4, Accuracy: 0.9292\n"
     ]
    }
   ],
   "source": [
    "# Train using MAS\n",
    "val_acc_arr = train_val(model=mas_model, \n",
    "                        list_degrees=list_degrees, \n",
    "                        train_dataset=train_dataset, \n",
    "                        val_dataset=val_dataset,\n",
    "                        num_epochs=NUM_EPOCHS, \n",
    "                        batch_size=BATCH_SIZE)"
   ]
  },
  {
   "cell_type": "code",
   "execution_count": 12,
   "id": "chief-austria",
   "metadata": {},
   "outputs": [],
   "source": [
    "# Compute the CL metrics\n",
    "cl_metrics = get_cl_metrics(val_acc_arr)\n",
    "\n",
    "# Compute the average accuracy (over other tasks) for each current task\n",
    "avg_acc_curr_past, avg_acc_all = get_avg_acc(val_acc_arr)"
   ]
  },
  {
   "cell_type": "code",
   "execution_count": 13,
   "id": "returning-destruction",
   "metadata": {},
   "outputs": [
    {
     "name": "stdout",
     "output_type": "stream",
     "text": [
      "Starting task_id: 0\n",
      "Starting epoch: 0\n"
     ]
    },
    {
     "data": {
      "application/vnd.jupyter.widget-view+json": {
       "model_id": "44e3f35d13e442a6bac91b5df4b52c22",
       "version_major": 2,
       "version_minor": 0
      },
      "text/plain": [
       "  0%|          | 0/235 [00:00<?, ?it/s]"
      ]
     },
     "metadata": {},
     "output_type": "display_data"
    },
    {
     "name": "stdout",
     "output_type": "stream",
     "text": [
      "task_id: 0, epoch: 0, train_accuracy: 0.9314937943262412\n",
      "Current task: 0, Validating on task: 0, Accuracy: 0.9729\n",
      "Current task: 0, Validating on task: 1, Accuracy: 0.3472\n",
      "Current task: 0, Validating on task: 2, Accuracy: 0.1639\n",
      "Current task: 0, Validating on task: 3, Accuracy: 0.1865\n",
      "Current task: 0, Validating on task: 4, Accuracy: 0.2796\n",
      "Starting task_id: 1\n",
      "Starting epoch: 0\n"
     ]
    },
    {
     "data": {
      "application/vnd.jupyter.widget-view+json": {
       "model_id": "d968b2d366a24baf8269bafe043fca52",
       "version_major": 2,
       "version_minor": 0
      },
      "text/plain": [
       "  0%|          | 0/235 [00:00<?, ?it/s]"
      ]
     },
     "metadata": {},
     "output_type": "display_data"
    },
    {
     "name": "stdout",
     "output_type": "stream",
     "text": [
      "task_id: 1, epoch: 0, train_accuracy: 0.94182734929078\n",
      "Current task: 1, Validating on task: 0, Accuracy: 0.685\n",
      "Current task: 1, Validating on task: 1, Accuracy: 0.9653\n",
      "Current task: 1, Validating on task: 2, Accuracy: 0.3718\n",
      "Current task: 1, Validating on task: 3, Accuracy: 0.1271\n",
      "Current task: 1, Validating on task: 4, Accuracy: 0.2511\n",
      "Starting task_id: 2\n",
      "Starting epoch: 0\n"
     ]
    },
    {
     "data": {
      "application/vnd.jupyter.widget-view+json": {
       "model_id": "261a4afd736149659da468eda2bc6fd3",
       "version_major": 2,
       "version_minor": 0
      },
      "text/plain": [
       "  0%|          | 0/235 [00:00<?, ?it/s]"
      ]
     },
     "metadata": {},
     "output_type": "display_data"
    },
    {
     "name": "stdout",
     "output_type": "stream",
     "text": [
      "task_id: 2, epoch: 0, train_accuracy: 0.9448581560283689\n",
      "Current task: 2, Validating on task: 0, Accuracy: 0.2556\n",
      "Current task: 2, Validating on task: 1, Accuracy: 0.6963\n",
      "Current task: 2, Validating on task: 2, Accuracy: 0.9718\n",
      "Current task: 2, Validating on task: 3, Accuracy: 0.4062\n",
      "Current task: 2, Validating on task: 4, Accuracy: 0.1608\n",
      "Starting task_id: 3\n",
      "Starting epoch: 0\n"
     ]
    },
    {
     "data": {
      "application/vnd.jupyter.widget-view+json": {
       "model_id": "63050cc1369144608ee91ef93bb161dc",
       "version_major": 2,
       "version_minor": 0
      },
      "text/plain": [
       "  0%|          | 0/235 [00:00<?, ?it/s]"
      ]
     },
     "metadata": {},
     "output_type": "display_data"
    },
    {
     "name": "stdout",
     "output_type": "stream",
     "text": [
      "task_id: 3, epoch: 0, train_accuracy: 0.9452681737588652\n",
      "Current task: 3, Validating on task: 0, Accuracy: 0.2435\n",
      "Current task: 3, Validating on task: 1, Accuracy: 0.2795\n",
      "Current task: 3, Validating on task: 2, Accuracy: 0.7516\n",
      "Current task: 3, Validating on task: 3, Accuracy: 0.9744\n",
      "Current task: 3, Validating on task: 4, Accuracy: 0.4547\n",
      "Starting task_id: 4\n",
      "Starting epoch: 0\n"
     ]
    },
    {
     "data": {
      "application/vnd.jupyter.widget-view+json": {
       "model_id": "c253fa2a4309490ab751d6e467ae31ec",
       "version_major": 2,
       "version_minor": 0
      },
      "text/plain": [
       "  0%|          | 0/235 [00:00<?, ?it/s]"
      ]
     },
     "metadata": {},
     "output_type": "display_data"
    },
    {
     "name": "stdout",
     "output_type": "stream",
     "text": [
      "task_id: 4, epoch: 0, train_accuracy: 0.9514738475177306\n",
      "Current task: 4, Validating on task: 0, Accuracy: 0.29\n",
      "Current task: 4, Validating on task: 1, Accuracy: 0.2847\n",
      "Current task: 4, Validating on task: 2, Accuracy: 0.3746\n",
      "Current task: 4, Validating on task: 3, Accuracy: 0.7678\n",
      "Current task: 4, Validating on task: 4, Accuracy: 0.9728\n"
     ]
    }
   ],
   "source": [
    "set_seed()\n",
    "\n",
    "# Train another model without any continual learning\n",
    "mas_model_no_cl = MemoryAwareSynapsesLearner(mas_lambda=0.0, lr=LEARNING_RATE)\n",
    "mas_model_no_cl = mas_model_no_cl.to(device)\n",
    "val_acc_arr_no_cl = train_val(model=mas_model_no_cl, \n",
    "                              list_degrees=list_degrees, \n",
    "                              train_dataset=train_dataset, \n",
    "                              val_dataset=val_dataset,\n",
    "                              num_epochs=NUM_EPOCHS, \n",
    "                              batch_size=BATCH_SIZE,\n",
    "                              reg=False,\n",
    "                              device=device)"
   ]
  },
  {
   "cell_type": "code",
   "execution_count": 14,
   "id": "vertical-waste",
   "metadata": {},
   "outputs": [],
   "source": [
    "# Compute the CL metrics\n",
    "cl_metrics_no_cl = get_cl_metrics(val_acc_arr_no_cl)\n",
    "\n",
    "# Compute the average accuracy (over other tasks) for each current task\n",
    "avg_acc_curr_past_no_cl, avg_acc_all_no_cl = get_avg_acc(val_acc_arr_no_cl)"
   ]
  },
  {
   "cell_type": "code",
   "execution_count": 15,
   "id": "minimal-confusion",
   "metadata": {},
   "outputs": [
    {
     "data": {
      "image/png": "[encoded data removed]",
      "text/plain": [
       "<Figure size 1440x360 with 2 Axes>"
      ]
     },
     "metadata": {
      "needs_background": "light"
     },
     "output_type": "display_data"
    }
   ],
   "source": [
    "# Compare the results\n",
    "\n",
    "# Line plots for average accuracy\n",
    "\n",
    "fig, ax = plt.subplots(1,2,figsize=(20,5))\n",
    "\n",
    "ax[0].plot(avg_acc_curr_past, lw=2, color='blue', marker='o', label='MAS')\n",
    "ax[0].plot(avg_acc_curr_past_no_cl, lw=2, color='red', marker='o', label='FT')\n",
    "\n",
    "ax[1].plot(avg_acc_all, lw=2, color='blue', marker='o', label='MAS')\n",
    "ax[1].plot(avg_acc_all_no_cl, lw=2, color='red', marker='o', label='FT')\n",
    "\n",
    "ax[0].set_title(\"Average accuracy over current and past tasks\")\n",
    "ax[1].set_title(\"Average accuracy over current, past, and future tasks\")\n",
    "for a in ax:\n",
    "    a.set_xlabel(\"Current task\")\n",
    "    a.set_ylabel(\"Accuracy\")\n",
    "    a.set_ylim([0.0,1.0])\n",
    "    a.grid(True)\n",
    "    a.legend()"
   ]
  },
  {
   "cell_type": "code",
   "execution_count": 16,
   "id": "common-thumb",
   "metadata": {},
   "outputs": [
    {
     "data": {
      "image/png": "[encoded data removed]",
      "text/plain": [
       "<Figure size 720x360 with 1 Axes>"
      ]
     },
     "metadata": {
      "needs_background": "light"
     },
     "output_type": "display_data"
    }
   ],
   "source": [
    "# Bar plots for CL metrics\n",
    "\n",
    "fig, ax = plt.subplots(1,1,figsize=(10,5))\n",
    "width = 0.2\n",
    "\n",
    "ax.bar(np.arange(4)-width/2.0, \n",
    "      (cl_metrics['acc'], cl_metrics['bwt_plus'], cl_metrics['rem'], cl_metrics['fwt']), \n",
    "       width=width, \n",
    "       label='MAS',\n",
    "       color='blue')\n",
    "ax.bar(np.arange(4)+width/2.0, \n",
    "      (cl_metrics_no_cl['acc'], cl_metrics_no_cl['bwt_plus'], cl_metrics_no_cl['rem'], cl_metrics_no_cl['fwt']), \n",
    "       width=width, \n",
    "       label='FT',\n",
    "       color='red')\n",
    "\n",
    "ax.grid(True)\n",
    "ax.set_xticks([0,1,2,3])\n",
    "ax.set_xticklabels(['acc', 'bwt_plus', 'rem', 'fwt'])\n",
    "ax.set_xlabel('CL Metrics')\n",
    "ax.set_ylabel('Metric score')\n",
    "ax.set_ylim([0.0, 1.0])\n",
    "ax.legend()\n",
    "_ = ax.set_title('CL Metrics')"
   ]
  },
  {
   "cell_type": "markdown",
   "id": "offshore-eleven",
   "metadata": {},
   "source": [
    "## Permuted MNIST (5 tasks)"
   ]
  },
  {
   "cell_type": "code",
   "execution_count": 20,
   "id": "effective-batch",
   "metadata": {},
   "outputs": [
    {
     "name": "stdout",
     "output_type": "stream",
     "text": [
      "cuda_available: False, device: cpu\n",
      "Starting task_id: 0\n",
      "Starting epoch: 0\n"
     ]
    },
    {
     "data": {
      "application/vnd.jupyter.widget-view+json": {
       "model_id": "9e612ae9c0044dc3b05c4228cec69cf3",
       "version_major": 2,
       "version_minor": 0
      },
      "text/plain": [
       "  0%|          | 0/235 [00:00<?, ?it/s]"
      ]
     },
     "metadata": {},
     "output_type": "display_data"
    },
    {
     "name": "stdout",
     "output_type": "stream",
     "text": [
      "task_id: 0, epoch: 0, train_accuracy: 0.9314937943262412\n",
      "Starting epoch: 1\n"
     ]
    },
    {
     "data": {
      "application/vnd.jupyter.widget-view+json": {
       "model_id": "18bc3319b514479b83256037631e7767",
       "version_major": 2,
       "version_minor": 0
      },
      "text/plain": [
       "  0%|          | 0/235 [00:00<?, ?it/s]"
      ]
     },
     "metadata": {},
     "output_type": "display_data"
    },
    {
     "name": "stdout",
     "output_type": "stream",
     "text": [
      "task_id: 0, epoch: 1, train_accuracy: 0.9759363918439715\n",
      "Starting epoch: 2\n"
     ]
    },
    {
     "data": {
      "application/vnd.jupyter.widget-view+json": {
       "model_id": "31cade75b6344b1297a34fcd22d0b25e",
       "version_major": 2,
       "version_minor": 0
      },
      "text/plain": [
       "  0%|          | 0/235 [00:00<?, ?it/s]"
      ]
     },
     "metadata": {},
     "output_type": "display_data"
    },
    {
     "name": "stdout",
     "output_type": "stream",
     "text": [
      "task_id: 0, epoch: 2, train_accuracy: 0.9847129875886524\n",
      "Starting epoch: 3\n"
     ]
    },
    {
     "data": {
      "application/vnd.jupyter.widget-view+json": {
       "model_id": "1101f0fc073a4845baa56c744606ee77",
       "version_major": 2,
       "version_minor": 0
      },
      "text/plain": [
       "  0%|          | 0/235 [00:00<?, ?it/s]"
      ]
     },
     "metadata": {},
     "output_type": "display_data"
    },
    {
     "name": "stdout",
     "output_type": "stream",
     "text": [
      "task_id: 0, epoch: 3, train_accuracy: 0.9895777925531914\n",
      "Starting epoch: 4\n"
     ]
    },
    {
     "data": {
      "application/vnd.jupyter.widget-view+json": {
       "model_id": "4c1e4d2d0070452598bff0767b2252b1",
       "version_major": 2,
       "version_minor": 0
      },
      "text/plain": [
       "  0%|          | 0/235 [00:00<?, ?it/s]"
      ]
     },
     "metadata": {},
     "output_type": "display_data"
    },
    {
     "name": "stdout",
     "output_type": "stream",
     "text": [
      "task_id: 0, epoch: 4, train_accuracy: 0.9906471631205673\n"
     ]
    },
    {
     "data": {
      "application/vnd.jupyter.widget-view+json": {
       "model_id": "ba834e2c89d54ec293cc3592868c90f8",
       "version_major": 2,
       "version_minor": 0
      },
      "text/plain": [
       "  0%|          | 0/10000 [00:00<?, ?it/s]"
      ]
     },
     "metadata": {},
     "output_type": "display_data"
    },
    {
     "name": "stdout",
     "output_type": "stream",
     "text": [
      "Current task: 0, Validating on task: 0, Accuracy: 0.9771\n",
      "Current task: 0, Validating on task: 1, Accuracy: 0.0848\n",
      "Current task: 0, Validating on task: 2, Accuracy: 0.0624\n",
      "Current task: 0, Validating on task: 3, Accuracy: 0.0756\n",
      "Current task: 0, Validating on task: 4, Accuracy: 0.0756\n",
      "Starting task_id: 1\n",
      "Starting epoch: 0\n"
     ]
    },
    {
     "data": {
      "application/vnd.jupyter.widget-view+json": {
       "model_id": "5af2c9fcd0624f619b7db2bd5978124b",
       "version_major": 2,
       "version_minor": 0
      },
      "text/plain": [
       "  0%|          | 0/235 [00:00<?, ?it/s]"
      ]
     },
     "metadata": {},
     "output_type": "display_data"
    },
    {
     "name": "stdout",
     "output_type": "stream",
     "text": [
      "task_id: 1, epoch: 0, train_accuracy: 0.9358820921985816\n",
      "Starting epoch: 1\n"
     ]
    },
    {
     "data": {
      "application/vnd.jupyter.widget-view+json": {
       "model_id": "f7c5c1ec02364337be9bcba8a8d19577",
       "version_major": 2,
       "version_minor": 0
      },
      "text/plain": [
       "  0%|          | 0/235 [00:00<?, ?it/s]"
      ]
     },
     "metadata": {},
     "output_type": "display_data"
    },
    {
     "name": "stdout",
     "output_type": "stream",
     "text": [
      "task_id: 1, epoch: 1, train_accuracy: 0.9801252216312056\n",
      "Starting epoch: 2\n"
     ]
    },
    {
     "data": {
      "application/vnd.jupyter.widget-view+json": {
       "model_id": "be15ab315bee4b3e814ef87647fed23b",
       "version_major": 2,
       "version_minor": 0
      },
      "text/plain": [
       "  0%|          | 0/235 [00:00<?, ?it/s]"
      ]
     },
     "metadata": {},
     "output_type": "display_data"
    },
    {
     "name": "stdout",
     "output_type": "stream",
     "text": [
      "task_id: 1, epoch: 2, train_accuracy: 0.988031914893617\n",
      "Starting epoch: 3\n"
     ]
    },
    {
     "data": {
      "application/vnd.jupyter.widget-view+json": {
       "model_id": "16433966cbc844f5b22dd81b36e2c466",
       "version_major": 2,
       "version_minor": 0
      },
      "text/plain": [
       "  0%|          | 0/235 [00:00<?, ?it/s]"
      ]
     },
     "metadata": {},
     "output_type": "display_data"
    },
    {
     "name": "stdout",
     "output_type": "stream",
     "text": [
      "task_id: 1, epoch: 3, train_accuracy: 0.991373005319149\n",
      "Starting epoch: 4\n"
     ]
    },
    {
     "data": {
      "application/vnd.jupyter.widget-view+json": {
       "model_id": "560497dc26e947cb9bc0e77ce5f2d80c",
       "version_major": 2,
       "version_minor": 0
      },
      "text/plain": [
       "  0%|          | 0/235 [00:00<?, ?it/s]"
      ]
     },
     "metadata": {},
     "output_type": "display_data"
    },
    {
     "name": "stdout",
     "output_type": "stream",
     "text": [
      "task_id: 1, epoch: 4, train_accuracy: 0.9945478723404255\n"
     ]
    },
    {
     "data": {
      "application/vnd.jupyter.widget-view+json": {
       "model_id": "f4b27ebe6c6d4c6b818237895ec44ccc",
       "version_major": 2,
       "version_minor": 0
      },
      "text/plain": [
       "  0%|          | 0/10000 [00:00<?, ?it/s]"
      ]
     },
     "metadata": {},
     "output_type": "display_data"
    },
    {
     "name": "stdout",
     "output_type": "stream",
     "text": [
      "Current task: 1, Validating on task: 0, Accuracy: 0.8526\n",
      "Current task: 1, Validating on task: 1, Accuracy: 0.9831\n",
      "Current task: 1, Validating on task: 2, Accuracy: 0.1093\n",
      "Current task: 1, Validating on task: 3, Accuracy: 0.1092\n",
      "Current task: 1, Validating on task: 4, Accuracy: 0.0511\n",
      "Starting task_id: 2\n",
      "Starting epoch: 0\n"
     ]
    },
    {
     "data": {
      "application/vnd.jupyter.widget-view+json": {
       "model_id": "3f5f869ba8dd43f6843f6c7ab699da6f",
       "version_major": 2,
       "version_minor": 0
      },
      "text/plain": [
       "  0%|          | 0/235 [00:00<?, ?it/s]"
      ]
     },
     "metadata": {},
     "output_type": "display_data"
    },
    {
     "name": "stdout",
     "output_type": "stream",
     "text": [
      "task_id: 2, epoch: 0, train_accuracy: 0.9209275265957447\n",
      "Starting epoch: 1\n"
     ]
    },
    {
     "data": {
      "application/vnd.jupyter.widget-view+json": {
       "model_id": "f81c81cde85b48abbecf08a84c91083e",
       "version_major": 2,
       "version_minor": 0
      },
      "text/plain": [
       "  0%|          | 0/235 [00:00<?, ?it/s]"
      ]
     },
     "metadata": {},
     "output_type": "display_data"
    },
    {
     "name": "stdout",
     "output_type": "stream",
     "text": [
      "task_id: 2, epoch: 1, train_accuracy: 0.9698803191489361\n",
      "Starting epoch: 2\n"
     ]
    },
    {
     "data": {
      "application/vnd.jupyter.widget-view+json": {
       "model_id": "1695983a98034094a521c7af39e1236f",
       "version_major": 2,
       "version_minor": 0
      },
      "text/plain": [
       "  0%|          | 0/235 [00:00<?, ?it/s]"
      ]
     },
     "metadata": {},
     "output_type": "display_data"
    },
    {
     "name": "stdout",
     "output_type": "stream",
     "text": [
      "task_id: 2, epoch: 2, train_accuracy: 0.9787123226950354\n",
      "Starting epoch: 3\n"
     ]
    },
    {
     "data": {
      "application/vnd.jupyter.widget-view+json": {
       "model_id": "d638272719de422385caa2d186b8988a",
       "version_major": 2,
       "version_minor": 0
      },
      "text/plain": [
       "  0%|          | 0/235 [00:00<?, ?it/s]"
      ]
     },
     "metadata": {},
     "output_type": "display_data"
    },
    {
     "name": "stdout",
     "output_type": "stream",
     "text": [
      "task_id: 2, epoch: 3, train_accuracy: 0.984624335106383\n",
      "Starting epoch: 4\n"
     ]
    },
    {
     "data": {
      "application/vnd.jupyter.widget-view+json": {
       "model_id": "a19c67d9d38347c6bb91738ef758d8b6",
       "version_major": 2,
       "version_minor": 0
      },
      "text/plain": [
       "  0%|          | 0/235 [00:00<?, ?it/s]"
      ]
     },
     "metadata": {},
     "output_type": "display_data"
    },
    {
     "name": "stdout",
     "output_type": "stream",
     "text": [
      "task_id: 2, epoch: 4, train_accuracy: 0.987605274822695\n"
     ]
    },
    {
     "data": {
      "application/vnd.jupyter.widget-view+json": {
       "model_id": "10691288f99f4c9a8826c7597be72742",
       "version_major": 2,
       "version_minor": 0
      },
      "text/plain": [
       "  0%|          | 0/10000 [00:00<?, ?it/s]"
      ]
     },
     "metadata": {},
     "output_type": "display_data"
    },
    {
     "name": "stdout",
     "output_type": "stream",
     "text": [
      "Current task: 2, Validating on task: 0, Accuracy: 0.8428\n",
      "Current task: 2, Validating on task: 1, Accuracy: 0.9783\n",
      "Current task: 2, Validating on task: 2, Accuracy: 0.9743\n",
      "Current task: 2, Validating on task: 3, Accuracy: 0.0861\n",
      "Current task: 2, Validating on task: 4, Accuracy: 0.073\n",
      "Starting task_id: 3\n",
      "Starting epoch: 0\n"
     ]
    },
    {
     "data": {
      "application/vnd.jupyter.widget-view+json": {
       "model_id": "1bd6bfed3a8b4c1cb06eb2f04f9725d5",
       "version_major": 2,
       "version_minor": 0
      },
      "text/plain": [
       "  0%|          | 0/235 [00:00<?, ?it/s]"
      ]
     },
     "metadata": {},
     "output_type": "display_data"
    },
    {
     "name": "stdout",
     "output_type": "stream",
     "text": [
      "task_id: 3, epoch: 0, train_accuracy: 0.9136081560283689\n",
      "Starting epoch: 1\n"
     ]
    },
    {
     "data": {
      "application/vnd.jupyter.widget-view+json": {
       "model_id": "4608f6f1d60442468a8d0ef346a65f7e",
       "version_major": 2,
       "version_minor": 0
      },
      "text/plain": [
       "  0%|          | 0/235 [00:00<?, ?it/s]"
      ]
     },
     "metadata": {},
     "output_type": "display_data"
    },
    {
     "name": "stdout",
     "output_type": "stream",
     "text": [
      "task_id: 3, epoch: 1, train_accuracy: 0.9655141843971631\n",
      "Starting epoch: 2\n"
     ]
    },
    {
     "data": {
      "application/vnd.jupyter.widget-view+json": {
       "model_id": "90a23e3590b440f28663f945c199f239",
       "version_major": 2,
       "version_minor": 0
      },
      "text/plain": [
       "  0%|          | 0/235 [00:00<?, ?it/s]"
      ]
     },
     "metadata": {},
     "output_type": "display_data"
    },
    {
     "name": "stdout",
     "output_type": "stream",
     "text": [
      "task_id: 3, epoch: 2, train_accuracy: 0.9753823138297872\n",
      "Starting epoch: 3\n"
     ]
    },
    {
     "data": {
      "application/vnd.jupyter.widget-view+json": {
       "model_id": "9a11ff9f7e9e410193b8baffc144fbb1",
       "version_major": 2,
       "version_minor": 0
      },
      "text/plain": [
       "  0%|          | 0/235 [00:00<?, ?it/s]"
      ]
     },
     "metadata": {},
     "output_type": "display_data"
    },
    {
     "name": "stdout",
     "output_type": "stream",
     "text": [
      "task_id: 3, epoch: 3, train_accuracy: 0.9805851063829787\n",
      "Starting epoch: 4\n"
     ]
    },
    {
     "data": {
      "application/vnd.jupyter.widget-view+json": {
       "model_id": "b6b3ce5bb62e42d58653e5491e477bc4",
       "version_major": 2,
       "version_minor": 0
      },
      "text/plain": [
       "  0%|          | 0/235 [00:00<?, ?it/s]"
      ]
     },
     "metadata": {},
     "output_type": "display_data"
    },
    {
     "name": "stdout",
     "output_type": "stream",
     "text": [
      "task_id: 3, epoch: 4, train_accuracy: 0.9854388297872341\n"
     ]
    },
    {
     "data": {
      "application/vnd.jupyter.widget-view+json": {
       "model_id": "ad58325445794742b2c677866114c445",
       "version_major": 2,
       "version_minor": 0
      },
      "text/plain": [
       "  0%|          | 0/10000 [00:00<?, ?it/s]"
      ]
     },
     "metadata": {},
     "output_type": "display_data"
    },
    {
     "name": "stdout",
     "output_type": "stream",
     "text": [
      "Current task: 3, Validating on task: 0, Accuracy: 0.8485\n",
      "Current task: 3, Validating on task: 1, Accuracy: 0.9734\n",
      "Current task: 3, Validating on task: 2, Accuracy: 0.9641\n",
      "Current task: 3, Validating on task: 3, Accuracy: 0.9734\n",
      "Current task: 3, Validating on task: 4, Accuracy: 0.1035\n",
      "Starting task_id: 4\n",
      "Starting epoch: 0\n"
     ]
    },
    {
     "data": {
      "application/vnd.jupyter.widget-view+json": {
       "model_id": "570cea2974e944689d3c91659eba229c",
       "version_major": 2,
       "version_minor": 0
      },
      "text/plain": [
       "  0%|          | 0/235 [00:00<?, ?it/s]"
      ]
     },
     "metadata": {},
     "output_type": "display_data"
    },
    {
     "name": "stdout",
     "output_type": "stream",
     "text": [
      "task_id: 4, epoch: 0, train_accuracy: 0.9064771719858157\n",
      "Starting epoch: 1\n"
     ]
    },
    {
     "data": {
      "application/vnd.jupyter.widget-view+json": {
       "model_id": "7ccbf248a109471a960955b80bc66ca5",
       "version_major": 2,
       "version_minor": 0
      },
      "text/plain": [
       "  0%|          | 0/235 [00:00<?, ?it/s]"
      ]
     },
     "metadata": {},
     "output_type": "display_data"
    },
    {
     "name": "stdout",
     "output_type": "stream",
     "text": [
      "task_id: 4, epoch: 1, train_accuracy: 0.9580064273049647\n",
      "Starting epoch: 2\n"
     ]
    },
    {
     "data": {
      "application/vnd.jupyter.widget-view+json": {
       "model_id": "623bea588a6146ff9fa533ffafe77b93",
       "version_major": 2,
       "version_minor": 0
      },
      "text/plain": [
       "  0%|          | 0/235 [00:00<?, ?it/s]"
      ]
     },
     "metadata": {},
     "output_type": "display_data"
    },
    {
     "name": "stdout",
     "output_type": "stream",
     "text": [
      "task_id: 4, epoch: 2, train_accuracy: 0.9687444592198582\n",
      "Starting epoch: 3\n"
     ]
    },
    {
     "data": {
      "application/vnd.jupyter.widget-view+json": {
       "model_id": "a65b7ae9864549c4bd0a59ed522b24a6",
       "version_major": 2,
       "version_minor": 0
      },
      "text/plain": [
       "  0%|          | 0/235 [00:00<?, ?it/s]"
      ]
     },
     "metadata": {},
     "output_type": "display_data"
    },
    {
     "name": "stdout",
     "output_type": "stream",
     "text": [
      "task_id: 4, epoch: 3, train_accuracy: 0.9744071365248226\n",
      "Starting epoch: 4\n"
     ]
    },
    {
     "data": {
      "application/vnd.jupyter.widget-view+json": {
       "model_id": "cf7330ba0b594727af463e49d95900b2",
       "version_major": 2,
       "version_minor": 0
      },
      "text/plain": [
       "  0%|          | 0/235 [00:00<?, ?it/s]"
      ]
     },
     "metadata": {},
     "output_type": "display_data"
    },
    {
     "name": "stdout",
     "output_type": "stream",
     "text": [
      "task_id: 4, epoch: 4, train_accuracy: 0.9796154698581561\n"
     ]
    },
    {
     "data": {
      "application/vnd.jupyter.widget-view+json": {
       "model_id": "2af184bb6a664beb9f462f88b652febe",
       "version_major": 2,
       "version_minor": 0
      },
      "text/plain": [
       "  0%|          | 0/10000 [00:00<?, ?it/s]"
      ]
     },
     "metadata": {},
     "output_type": "display_data"
    },
    {
     "name": "stdout",
     "output_type": "stream",
     "text": [
      "Current task: 4, Validating on task: 0, Accuracy: 0.8301\n",
      "Current task: 4, Validating on task: 1, Accuracy: 0.9684\n",
      "Current task: 4, Validating on task: 2, Accuracy: 0.9549\n",
      "Current task: 4, Validating on task: 3, Accuracy: 0.9649\n",
      "Current task: 4, Validating on task: 4, Accuracy: 0.9705\n"
     ]
    }
   ],
   "source": [
    "# Setting hyperparameters\n",
    "SEED = 1000\n",
    "NUM_EPOCHS = 5  \n",
    "MAS_LAMBDA = 1.0\n",
    "LEARNING_RATE = 0.001\n",
    "BATCH_SIZE = 256\n",
    "SEEDS = [100, 200, 300, 400]\n",
    "\n",
    "set_seed(SEED)\n",
    "\n",
    "# Check if CUDA is available\n",
    "cuda_available, device = check_cuda()\n",
    "print(f'cuda_available: {cuda_available}, device: {device}')\n",
    "\n",
    "train_dataset = MNIST(data_path=\"dataset\", download=True, train=True)\n",
    "val_dataset = MNIST(data_path=\"dataset\", download=True, train=False)\n",
    "\n",
    "# Create the learner object\n",
    "mas_model = MemoryAwareSynapsesLearner(mas_lambda=MAS_LAMBDA, lr=LEARNING_RATE)\n",
    "mas_model = mas_model.to(device)\n",
    "\n",
    "# Train using MAS\n",
    "val_acc_arr = train_val(model=mas_model, \n",
    "                        list_degrees=None, \n",
    "                        train_dataset=train_dataset, \n",
    "                        val_dataset=val_dataset,\n",
    "                        num_epochs=NUM_EPOCHS, \n",
    "                        batch_size=BATCH_SIZE,\n",
    "                        seeds=SEEDS,\n",
    "                        mnist_type='Permuted',\n",
    "                        num_tasks=5)\n",
    "                        \n",
    "# Compute the CL metrics\n",
    "cl_metrics = get_cl_metrics(val_acc_arr)\n",
    "\n",
    "# Compute the average accuracy (over other tasks) for each current task\n",
    "avg_acc_curr_past, avg_acc_all = get_avg_acc(val_acc_arr)"
   ]
  },
  {
   "cell_type": "code",
   "execution_count": 22,
   "id": "worth-mexico",
   "metadata": {},
   "outputs": [
    {
     "name": "stdout",
     "output_type": "stream",
     "text": [
      "Starting task_id: 0\n",
      "Starting epoch: 0\n"
     ]
    },
    {
     "data": {
      "application/vnd.jupyter.widget-view+json": {
       "model_id": "aaf891b58f684a3bbcf44762e24458ad",
       "version_major": 2,
       "version_minor": 0
      },
      "text/plain": [
       "  0%|          | 0/235 [00:00<?, ?it/s]"
      ]
     },
     "metadata": {},
     "output_type": "display_data"
    },
    {
     "name": "stdout",
     "output_type": "stream",
     "text": [
      "task_id: 0, epoch: 0, train_accuracy: 0.9314937943262412\n",
      "Starting epoch: 1\n"
     ]
    },
    {
     "data": {
      "application/vnd.jupyter.widget-view+json": {
       "model_id": "1c587ba17bd345f39cc1c319b6d5dd3e",
       "version_major": 2,
       "version_minor": 0
      },
      "text/plain": [
       "  0%|          | 0/235 [00:00<?, ?it/s]"
      ]
     },
     "metadata": {},
     "output_type": "display_data"
    },
    {
     "name": "stdout",
     "output_type": "stream",
     "text": [
      "task_id: 0, epoch: 1, train_accuracy: 0.9759363918439715\n",
      "Starting epoch: 2\n"
     ]
    },
    {
     "data": {
      "application/vnd.jupyter.widget-view+json": {
       "model_id": "b15eaccd24bf4bcd9984f1cb9d045df5",
       "version_major": 2,
       "version_minor": 0
      },
      "text/plain": [
       "  0%|          | 0/235 [00:00<?, ?it/s]"
      ]
     },
     "metadata": {},
     "output_type": "display_data"
    },
    {
     "name": "stdout",
     "output_type": "stream",
     "text": [
      "task_id: 0, epoch: 2, train_accuracy: 0.9847129875886524\n",
      "Starting epoch: 3\n"
     ]
    },
    {
     "data": {
      "application/vnd.jupyter.widget-view+json": {
       "model_id": "1ed319575e894b8990e86b949fe7a0e0",
       "version_major": 2,
       "version_minor": 0
      },
      "text/plain": [
       "  0%|          | 0/235 [00:00<?, ?it/s]"
      ]
     },
     "metadata": {},
     "output_type": "display_data"
    },
    {
     "name": "stdout",
     "output_type": "stream",
     "text": [
      "task_id: 0, epoch: 3, train_accuracy: 0.9895777925531914\n",
      "Starting epoch: 4\n"
     ]
    },
    {
     "data": {
      "application/vnd.jupyter.widget-view+json": {
       "model_id": "2d120378775f4c5aad1cf7fcb1acb16c",
       "version_major": 2,
       "version_minor": 0
      },
      "text/plain": [
       "  0%|          | 0/235 [00:00<?, ?it/s]"
      ]
     },
     "metadata": {},
     "output_type": "display_data"
    },
    {
     "name": "stdout",
     "output_type": "stream",
     "text": [
      "task_id: 0, epoch: 4, train_accuracy: 0.9906471631205673\n",
      "Current task: 0, Validating on task: 0, Accuracy: 0.9771\n",
      "Current task: 0, Validating on task: 1, Accuracy: 0.0848\n",
      "Current task: 0, Validating on task: 2, Accuracy: 0.0624\n",
      "Current task: 0, Validating on task: 3, Accuracy: 0.0756\n",
      "Current task: 0, Validating on task: 4, Accuracy: 0.0756\n",
      "Starting task_id: 1\n",
      "Starting epoch: 0\n"
     ]
    },
    {
     "data": {
      "application/vnd.jupyter.widget-view+json": {
       "model_id": "63146d4e6e9645b7896d2023708e45bc",
       "version_major": 2,
       "version_minor": 0
      },
      "text/plain": [
       "  0%|          | 0/235 [00:00<?, ?it/s]"
      ]
     },
     "metadata": {},
     "output_type": "display_data"
    },
    {
     "name": "stdout",
     "output_type": "stream",
     "text": [
      "task_id: 1, epoch: 0, train_accuracy: 0.9379654255319149\n",
      "Starting epoch: 1\n"
     ]
    },
    {
     "data": {
      "application/vnd.jupyter.widget-view+json": {
       "model_id": "d2bdf6e4231b42708cd652a958593de5",
       "version_major": 2,
       "version_minor": 0
      },
      "text/plain": [
       "  0%|          | 0/235 [00:00<?, ?it/s]"
      ]
     },
     "metadata": {},
     "output_type": "display_data"
    },
    {
     "name": "stdout",
     "output_type": "stream",
     "text": [
      "task_id: 1, epoch: 1, train_accuracy: 0.9793882978723404\n",
      "Starting epoch: 2\n"
     ]
    },
    {
     "data": {
      "application/vnd.jupyter.widget-view+json": {
       "model_id": "9e2d3cfd7b35456a80ef139011baf954",
       "version_major": 2,
       "version_minor": 0
      },
      "text/plain": [
       "  0%|          | 0/235 [00:00<?, ?it/s]"
      ]
     },
     "metadata": {},
     "output_type": "display_data"
    },
    {
     "name": "stdout",
     "output_type": "stream",
     "text": [
      "task_id: 1, epoch: 2, train_accuracy: 0.9881316489361702\n",
      "Starting epoch: 3\n"
     ]
    },
    {
     "data": {
      "application/vnd.jupyter.widget-view+json": {
       "model_id": "86937f49c00e44dfa506f0726fae2dd2",
       "version_major": 2,
       "version_minor": 0
      },
      "text/plain": [
       "  0%|          | 0/235 [00:00<?, ?it/s]"
      ]
     },
     "metadata": {},
     "output_type": "display_data"
    },
    {
     "name": "stdout",
     "output_type": "stream",
     "text": [
      "task_id: 1, epoch: 3, train_accuracy: 0.9920434397163119\n",
      "Starting epoch: 4\n"
     ]
    },
    {
     "data": {
      "application/vnd.jupyter.widget-view+json": {
       "model_id": "de5c5afebc214c03bbf3dcbb70635df7",
       "version_major": 2,
       "version_minor": 0
      },
      "text/plain": [
       "  0%|          | 0/235 [00:00<?, ?it/s]"
      ]
     },
     "metadata": {},
     "output_type": "display_data"
    },
    {
     "name": "stdout",
     "output_type": "stream",
     "text": [
      "task_id: 1, epoch: 4, train_accuracy: 0.994315159574468\n",
      "Current task: 1, Validating on task: 0, Accuracy: 0.8202\n",
      "Current task: 1, Validating on task: 1, Accuracy: 0.979\n",
      "Current task: 1, Validating on task: 2, Accuracy: 0.1092\n",
      "Current task: 1, Validating on task: 3, Accuracy: 0.0911\n",
      "Current task: 1, Validating on task: 4, Accuracy: 0.0655\n",
      "Starting task_id: 2\n",
      "Starting epoch: 0\n"
     ]
    },
    {
     "data": {
      "application/vnd.jupyter.widget-view+json": {
       "model_id": "8899461b6b804931838d9ab9f587fd16",
       "version_major": 2,
       "version_minor": 0
      },
      "text/plain": [
       "  0%|          | 0/235 [00:00<?, ?it/s]"
      ]
     },
     "metadata": {},
     "output_type": "display_data"
    },
    {
     "name": "stdout",
     "output_type": "stream",
     "text": [
      "task_id: 2, epoch: 0, train_accuracy: 0.9315104166666668\n",
      "Starting epoch: 1\n"
     ]
    },
    {
     "data": {
      "application/vnd.jupyter.widget-view+json": {
       "model_id": "98f164c64d21454197c552645082fce6",
       "version_major": 2,
       "version_minor": 0
      },
      "text/plain": [
       "  0%|          | 0/235 [00:00<?, ?it/s]"
      ]
     },
     "metadata": {},
     "output_type": "display_data"
    },
    {
     "name": "stdout",
     "output_type": "stream",
     "text": [
      "task_id: 2, epoch: 1, train_accuracy: 0.9793384308510639\n",
      "Starting epoch: 2\n"
     ]
    },
    {
     "data": {
      "application/vnd.jupyter.widget-view+json": {
       "model_id": "79564ef8c7e44bc6af26bec60942d79a",
       "version_major": 2,
       "version_minor": 0
      },
      "text/plain": [
       "  0%|          | 0/235 [00:00<?, ?it/s]"
      ]
     },
     "metadata": {},
     "output_type": "display_data"
    },
    {
     "name": "stdout",
     "output_type": "stream",
     "text": [
      "task_id: 2, epoch: 2, train_accuracy: 0.9882535460992907\n",
      "Starting epoch: 3\n"
     ]
    },
    {
     "data": {
      "application/vnd.jupyter.widget-view+json": {
       "model_id": "37a746ec1a074b20ae39052fdb66d0af",
       "version_major": 2,
       "version_minor": 0
      },
      "text/plain": [
       "  0%|          | 0/235 [00:00<?, ?it/s]"
      ]
     },
     "metadata": {},
     "output_type": "display_data"
    },
    {
     "name": "stdout",
     "output_type": "stream",
     "text": [
      "task_id: 2, epoch: 3, train_accuracy: 0.992436835106383\n",
      "Starting epoch: 4\n"
     ]
    },
    {
     "data": {
      "application/vnd.jupyter.widget-view+json": {
       "model_id": "4ec36933ce3448d2b3d0ce5d484c1f82",
       "version_major": 2,
       "version_minor": 0
      },
      "text/plain": [
       "  0%|          | 0/235 [00:00<?, ?it/s]"
      ]
     },
     "metadata": {},
     "output_type": "display_data"
    },
    {
     "name": "stdout",
     "output_type": "stream",
     "text": [
      "task_id: 2, epoch: 4, train_accuracy: 0.9954454787234043\n",
      "Current task: 2, Validating on task: 0, Accuracy: 0.7003\n",
      "Current task: 2, Validating on task: 1, Accuracy: 0.8944\n",
      "Current task: 2, Validating on task: 2, Accuracy: 0.9774\n",
      "Current task: 2, Validating on task: 3, Accuracy: 0.085\n",
      "Current task: 2, Validating on task: 4, Accuracy: 0.1173\n",
      "Starting task_id: 3\n",
      "Starting epoch: 0\n"
     ]
    },
    {
     "data": {
      "application/vnd.jupyter.widget-view+json": {
       "model_id": "f616968b6bd14933a6f38145ca2d8f9e",
       "version_major": 2,
       "version_minor": 0
      },
      "text/plain": [
       "  0%|          | 0/235 [00:00<?, ?it/s]"
      ]
     },
     "metadata": {},
     "output_type": "display_data"
    },
    {
     "name": "stdout",
     "output_type": "stream",
     "text": [
      "task_id: 3, epoch: 0, train_accuracy: 0.933200354609929\n",
      "Starting epoch: 1\n"
     ]
    },
    {
     "data": {
      "application/vnd.jupyter.widget-view+json": {
       "model_id": "37bd1ed411fd45cbb7982b4b85dc7717",
       "version_major": 2,
       "version_minor": 0
      },
      "text/plain": [
       "  0%|          | 0/235 [00:00<?, ?it/s]"
      ]
     },
     "metadata": {},
     "output_type": "display_data"
    },
    {
     "name": "stdout",
     "output_type": "stream",
     "text": [
      "task_id: 3, epoch: 1, train_accuracy: 0.9801085992907801\n",
      "Starting epoch: 2\n"
     ]
    },
    {
     "data": {
      "application/vnd.jupyter.widget-view+json": {
       "model_id": "4f8a9f1afcc642cfa77d2258a47807b3",
       "version_major": 2,
       "version_minor": 0
      },
      "text/plain": [
       "  0%|          | 0/235 [00:00<?, ?it/s]"
      ]
     },
     "metadata": {},
     "output_type": "display_data"
    },
    {
     "name": "stdout",
     "output_type": "stream",
     "text": [
      "task_id: 3, epoch: 2, train_accuracy: 0.9880097517730497\n",
      "Starting epoch: 3\n"
     ]
    },
    {
     "data": {
      "application/vnd.jupyter.widget-view+json": {
       "model_id": "2bfd1a4e37804e2789f099c7e3773e7e",
       "version_major": 2,
       "version_minor": 0
      },
      "text/plain": [
       "  0%|          | 0/235 [00:00<?, ?it/s]"
      ]
     },
     "metadata": {},
     "output_type": "display_data"
    },
    {
     "name": "stdout",
     "output_type": "stream",
     "text": [
      "task_id: 3, epoch: 3, train_accuracy: 0.992891179078014\n",
      "Starting epoch: 4\n"
     ]
    },
    {
     "data": {
      "application/vnd.jupyter.widget-view+json": {
       "model_id": "9787e398e4c74af5b0ac5b530d0de9f9",
       "version_major": 2,
       "version_minor": 0
      },
      "text/plain": [
       "  0%|          | 0/235 [00:00<?, ?it/s]"
      ]
     },
     "metadata": {},
     "output_type": "display_data"
    },
    {
     "name": "stdout",
     "output_type": "stream",
     "text": [
      "task_id: 3, epoch: 4, train_accuracy: 0.9952626329787234\n",
      "Current task: 3, Validating on task: 0, Accuracy: 0.6218\n",
      "Current task: 3, Validating on task: 1, Accuracy: 0.8765\n",
      "Current task: 3, Validating on task: 2, Accuracy: 0.9299\n",
      "Current task: 3, Validating on task: 3, Accuracy: 0.9783\n",
      "Current task: 3, Validating on task: 4, Accuracy: 0.0867\n",
      "Starting task_id: 4\n",
      "Starting epoch: 0\n"
     ]
    },
    {
     "data": {
      "application/vnd.jupyter.widget-view+json": {
       "model_id": "c07b893943294c158f68bf88480ece26",
       "version_major": 2,
       "version_minor": 0
      },
      "text/plain": [
       "  0%|          | 0/235 [00:00<?, ?it/s]"
      ]
     },
     "metadata": {},
     "output_type": "display_data"
    },
    {
     "name": "stdout",
     "output_type": "stream",
     "text": [
      "task_id: 4, epoch: 0, train_accuracy: 0.9328845301418439\n",
      "Starting epoch: 1\n"
     ]
    },
    {
     "data": {
      "application/vnd.jupyter.widget-view+json": {
       "model_id": "cb190c0295a34f169e7e503e75454a31",
       "version_major": 2,
       "version_minor": 0
      },
      "text/plain": [
       "  0%|          | 0/235 [00:00<?, ?it/s]"
      ]
     },
     "metadata": {},
     "output_type": "display_data"
    },
    {
     "name": "stdout",
     "output_type": "stream",
     "text": [
      "task_id: 4, epoch: 1, train_accuracy: 0.9793162677304965\n",
      "Starting epoch: 2\n"
     ]
    },
    {
     "data": {
      "application/vnd.jupyter.widget-view+json": {
       "model_id": "3bfa98cb916e4401b1543ad0cbd45a5e",
       "version_major": 2,
       "version_minor": 0
      },
      "text/plain": [
       "  0%|          | 0/235 [00:00<?, ?it/s]"
      ]
     },
     "metadata": {},
     "output_type": "display_data"
    },
    {
     "name": "stdout",
     "output_type": "stream",
     "text": [
      "task_id: 4, epoch: 2, train_accuracy: 0.9893062943262412\n",
      "Starting epoch: 3\n"
     ]
    },
    {
     "data": {
      "application/vnd.jupyter.widget-view+json": {
       "model_id": "8bab256016664daf8ff3d15fc0b0e84e",
       "version_major": 2,
       "version_minor": 0
      },
      "text/plain": [
       "  0%|          | 0/235 [00:00<?, ?it/s]"
      ]
     },
     "metadata": {},
     "output_type": "display_data"
    },
    {
     "name": "stdout",
     "output_type": "stream",
     "text": [
      "task_id: 4, epoch: 3, train_accuracy: 0.9926640070921987\n",
      "Starting epoch: 4\n"
     ]
    },
    {
     "data": {
      "application/vnd.jupyter.widget-view+json": {
       "model_id": "cf828a3f2ef94d0881f3c66f2424e634",
       "version_major": 2,
       "version_minor": 0
      },
      "text/plain": [
       "  0%|          | 0/235 [00:00<?, ?it/s]"
      ]
     },
     "metadata": {},
     "output_type": "display_data"
    },
    {
     "name": "stdout",
     "output_type": "stream",
     "text": [
      "task_id: 4, epoch: 4, train_accuracy: 0.9949800531914894\n",
      "Current task: 4, Validating on task: 0, Accuracy: 0.455\n",
      "Current task: 4, Validating on task: 1, Accuracy: 0.8381\n",
      "Current task: 4, Validating on task: 2, Accuracy: 0.9239\n",
      "Current task: 4, Validating on task: 3, Accuracy: 0.9334\n",
      "Current task: 4, Validating on task: 4, Accuracy: 0.9773\n"
     ]
    }
   ],
   "source": [
    "set_seed(SEED)\n",
    "\n",
    "# Train another model without any continual learning\n",
    "mas_model_no_cl = MemoryAwareSynapsesLearner(mas_lambda=0.0, lr=LEARNING_RATE)\n",
    "mas_model_no_cl = mas_model_no_cl.to(device)\n",
    "val_acc_arr_no_cl = train_val(model=mas_model_no_cl, \n",
    "                        list_degrees=None, \n",
    "                        train_dataset=train_dataset, \n",
    "                        val_dataset=val_dataset,\n",
    "                        num_epochs=NUM_EPOCHS, \n",
    "                        batch_size=BATCH_SIZE,\n",
    "                        seeds=SEEDS,\n",
    "                        mnist_type='Permuted',\n",
    "                        num_tasks=5,\n",
    "                        reg=False)\n",
    "                              \n",
    "# Compute the CL metrics\n",
    "cl_metrics_no_cl = get_cl_metrics(val_acc_arr_no_cl)\n",
    "\n",
    "# Compute the average accuracy (over other tasks) for each current task\n",
    "avg_acc_curr_past_no_cl, avg_acc_all_no_cl = get_avg_acc(val_acc_arr_no_cl)"
   ]
  },
  {
   "cell_type": "code",
   "execution_count": 23,
   "id": "purple-officer",
   "metadata": {},
   "outputs": [
    {
     "data": {
      "image/png": "[encoded data removed]",
      "text/plain": [
       "<Figure size 1440x360 with 2 Axes>"
      ]
     },
     "metadata": {
      "needs_background": "light"
     },
     "output_type": "display_data"
    }
   ],
   "source": [
    "# Compare the results\n",
    "\n",
    "# Line plots for average accuracy\n",
    "\n",
    "fig, ax = plt.subplots(1,2,figsize=(20,5))\n",
    "\n",
    "ax[0].plot(avg_acc_curr_past, lw=2, color='blue', marker='o', label='MAS')\n",
    "ax[0].plot(avg_acc_curr_past_no_cl, lw=2, color='red', marker='o', label='FT')\n",
    "\n",
    "ax[1].plot(avg_acc_all, lw=2, color='blue', marker='o', label='MAS')\n",
    "ax[1].plot(avg_acc_all_no_cl, lw=2, color='red', marker='o', label='FT')\n",
    "\n",
    "ax[0].set_title(\"Average accuracy over current and past tasks\")\n",
    "ax[1].set_title(\"Average accuracy over current, past, and future tasks\")\n",
    "for a in ax:\n",
    "    a.set_xlabel(\"Current task\")\n",
    "    a.set_ylabel(\"Accuracy\")\n",
    "    a.set_ylim([0.0,1.0])\n",
    "    a.grid(True)\n",
    "    a.legend()"
   ]
  },
  {
   "cell_type": "code",
   "execution_count": 24,
   "id": "restricted-minnesota",
   "metadata": {},
   "outputs": [
    {
     "data": {
      "image/png": "[encoded data removed]",
      "text/plain": [
       "<Figure size 720x360 with 1 Axes>"
      ]
     },
     "metadata": {
      "needs_background": "light"
     },
     "output_type": "display_data"
    }
   ],
   "source": [
    "# Bar plots for CL metrics\n",
    "\n",
    "fig, ax = plt.subplots(1,1,figsize=(10,5))\n",
    "width = 0.2\n",
    "\n",
    "ax.bar(np.arange(4)-width/2.0, \n",
    "      (cl_metrics['acc'], cl_metrics['bwt_plus'], cl_metrics['rem'], cl_metrics['fwt']), \n",
    "       width=width, \n",
    "       label='MAS',\n",
    "       color='blue')\n",
    "ax.bar(np.arange(4)+width/2.0, \n",
    "      (cl_metrics_no_cl['acc'], cl_metrics_no_cl['bwt_plus'], cl_metrics_no_cl['rem'], cl_metrics_no_cl['fwt']), \n",
    "       width=width, \n",
    "       label='FT',\n",
    "       color='red')\n",
    "\n",
    "ax.grid(True)\n",
    "ax.set_xticks([0,1,2,3])\n",
    "ax.set_xticklabels(['acc', 'bwt_plus', 'rem', 'fwt'])\n",
    "ax.set_xlabel('CL Metrics')\n",
    "ax.set_ylabel('Metric score')\n",
    "ax.set_ylim([0.0, 1.0])\n",
    "ax.legend()\n",
    "_ = ax.set_title('CL Metrics')"
   ]
  }
 ],
 "metadata": {
  "kernelspec": {
   "display_name": "venv1",
   "language": "python",
   "name": "venv1"
  },
  "language_info": {
   "codemirror_mode": {
    "name": "ipython",
    "version": 3
   },
   "file_extension": ".py",
   "mimetype": "text/x-python",
   "name": "python",
   "nbconvert_exporter": "python",
   "pygments_lexer": "ipython3",
   "version": "3.8.10"
  }
 },
 "nbformat": 4,
 "nbformat_minor": 5
}
